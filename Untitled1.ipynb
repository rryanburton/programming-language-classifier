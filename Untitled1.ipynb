{
 "cells": [
  {
   "cell_type": "code",
   "execution_count": 111,
   "metadata": {
    "collapsed": true
   },
   "outputs": [],
   "source": [
    "import glob\n",
    "import pandas as pd\n",
    "from sklearn.feature_extraction.text import CountVectorizer\n",
    "from sklearn.cross_validation import train_test_split\n",
    "from sklearn.base import TransformerMixin\n",
    "from sklearn.naive_bayes import MultinomialNB"
   ]
  },
  {
   "cell_type": "code",
   "execution_count": 72,
   "metadata": {
    "collapsed": false
   },
   "outputs": [
    {
     "data": {
      "text/plain": [
       "['bench/binarytrees/binarytrees.ats',\n",
       " 'bench/binarytrees/binarytrees.ats-3.ats',\n",
       " 'bench/binarytrees/binarytrees.clojure',\n",
       " 'bench/binarytrees/binarytrees.clojure-2.clojure',\n",
       " 'bench/binarytrees/binarytrees.clojure-6.clojure',\n",
       " 'bench/binarytrees/binarytrees.csharp',\n",
       " 'bench/binarytrees/binarytrees.csharp-2.csharp',\n",
       " 'bench/binarytrees/binarytrees.dart',\n",
       " 'bench/binarytrees/binarytrees.erlang',\n",
       " 'bench/binarytrees/binarytrees.erlang-2.erlang',\n",
       " 'bench/binarytrees/binarytrees.fpascal',\n",
       " 'bench/binarytrees/binarytrees.fsharp',\n",
       " 'bench/binarytrees/binarytrees.fsharp-2.fsharp',\n",
       " 'bench/binarytrees/binarytrees.fsharp-3.fsharp',\n",
       " 'bench/binarytrees/binarytrees.gcc',\n",
       " 'bench/binarytrees/binarytrees.gcc-2.gcc',\n",
       " 'bench/binarytrees/binarytrees.gcc-3.gcc',\n",
       " 'bench/binarytrees/binarytrees.gcc-5.gcc',\n",
       " 'bench/binarytrees/binarytrees.gcc-7.gcc',\n",
       " 'bench/binarytrees/binarytrees.gcc-9.gcc',\n",
       " 'bench/binarytrees/binarytrees.ghc',\n",
       " 'bench/binarytrees/binarytrees.ghc-4.ghc',\n",
       " 'bench/binarytrees/binarytrees.ghc-5.ghc',\n",
       " 'bench/binarytrees/binarytrees.gnat',\n",
       " 'bench/binarytrees/binarytrees.gnat-3.gnat',\n",
       " 'bench/binarytrees/binarytrees.gnat-4.gnat',\n",
       " 'bench/binarytrees/binarytrees.gnat-5.gnat',\n",
       " 'bench/binarytrees/binarytrees.go',\n",
       " 'bench/binarytrees/binarytrees.go-2.go',\n",
       " 'bench/binarytrees/binarytrees.go-3.go',\n",
       " 'bench/binarytrees/binarytrees.go-4.go',\n",
       " 'bench/binarytrees/binarytrees.go-5.go',\n",
       " 'bench/binarytrees/binarytrees.go-6.go',\n",
       " 'bench/binarytrees/binarytrees.go-7.go',\n",
       " 'bench/binarytrees/binarytrees.go-8.go',\n",
       " 'bench/binarytrees/binarytrees.gpp-2.gpp',\n",
       " 'bench/binarytrees/binarytrees.gpp-6.gpp',\n",
       " 'bench/binarytrees/binarytrees.gpp-7.gpp',\n",
       " 'bench/binarytrees/binarytrees.hack',\n",
       " 'bench/binarytrees/binarytrees.hack-2.hack',\n",
       " 'bench/binarytrees/binarytrees.hack-3.hack',\n",
       " 'bench/binarytrees/binarytrees.ifc',\n",
       " 'bench/binarytrees/binarytrees.ifc-2.ifc',\n",
       " 'bench/binarytrees/binarytrees.java',\n",
       " 'bench/binarytrees/binarytrees.java-2.java',\n",
       " 'bench/binarytrees/binarytrees.java-3.java',\n",
       " 'bench/binarytrees/binarytrees.javascript',\n",
       " 'bench/binarytrees/binarytrees.jruby',\n",
       " 'bench/binarytrees/binarytrees.jruby-3.jruby',\n",
       " 'bench/binarytrees/binarytrees.jruby-4.jruby',\n",
       " 'bench/binarytrees/binarytrees.jruby-5.jruby',\n",
       " 'bench/binarytrees/binarytrees.lua-2.lua',\n",
       " 'bench/binarytrees/binarytrees.lua-3.lua',\n",
       " 'bench/binarytrees/binarytrees.ocaml',\n",
       " 'bench/binarytrees/binarytrees.ocaml-2.ocaml',\n",
       " 'bench/binarytrees/binarytrees.ocaml-5.ocaml',\n",
       " 'bench/binarytrees/binarytrees.oz',\n",
       " 'bench/binarytrees/binarytrees.perl',\n",
       " 'bench/binarytrees/binarytrees.perl-3.perl',\n",
       " 'bench/binarytrees/binarytrees.php',\n",
       " 'bench/binarytrees/binarytrees.php-2.php',\n",
       " 'bench/binarytrees/binarytrees.php-3.php',\n",
       " 'bench/binarytrees/binarytrees.php-4.php',\n",
       " 'bench/binarytrees/binarytrees.python3-6.python3',\n",
       " 'bench/binarytrees/binarytrees.racket',\n",
       " 'bench/binarytrees/binarytrees.racket-2.racket',\n",
       " 'bench/binarytrees/binarytrees.racket-3.racket',\n",
       " 'bench/binarytrees/binarytrees.rust',\n",
       " 'bench/binarytrees/binarytrees.sbcl',\n",
       " 'bench/binarytrees/binarytrees.sbcl-2.sbcl',\n",
       " 'bench/binarytrees/binarytrees.scala',\n",
       " 'bench/binarytrees/binarytrees.scala-2.scala',\n",
       " 'bench/binarytrees/binarytrees.scala-4.scala',\n",
       " 'bench/binarytrees/binarytrees.vw',\n",
       " 'bench/binarytrees/binarytrees.yarv',\n",
       " 'bench/binarytrees/binarytrees.yarv-2.yarv',\n",
       " 'bench/binarytrees/binarytrees.yarv-3.yarv',\n",
       " 'bench/binarytrees/binarytrees.yarv-4.yarv',\n",
       " 'bench/binarytrees/binarytrees.yarv-5.yarv']"
      ]
     },
     "execution_count": 72,
     "metadata": {},
     "output_type": "execute_result"
    }
   ],
   "source": [
    "# experimenting with glob to import files\n",
    "glob.glob('bench/binarytrees/*.*')"
   ]
  },
  {
   "cell_type": "code",
   "execution_count": 73,
   "metadata": {
    "collapsed": true
   },
   "outputs": [],
   "source": [
    "#dictionary with names of languages and their file extentions\n",
    "file_extentions = {\"C\": [\"gcc\", \"c\", \"h\"],\n",
    "                    \"C#\": [\"csharp\"],\n",
    "                    \"Clojure\": [\"clj\", \"cljs\", \"cljs\", \"edn\", \"clojure\"],\n",
    "                    \"Common Lisp\": [\"sbcl\"],\n",
    "                    \"Haskell\": [\"hs\", \"lhs\", \"ghc\"],\n",
    "                    \"Java\": [\"java\", \"class\", \"jar\"],\n",
    "                    \"Javascript\": [\"js\", \"javascript\"],\n",
    "                    \"OCaml\": [\"ocaml\", \"ml\"],\n",
    "                    \"Perl\": [\"pl\", \"pm\", \"t\", \"pod\", \"perl\"],\n",
    "                    \"PHP\": [\"php\", \"phtml\", \"php4\", \"php3\", \"php5\", \"phps\", \"hack\"],\n",
    "                    \"Python\": [\"py\", \"pyw\", \"pyc\", \"pyo\", \"pyd\", \"python3\", \"Python2\"],\n",
    "                    \"Ruby\": [\"rb\", \"rbw\", \"jruby\", \"yarv\"],\n",
    "                    \"Scala\": [\"scala\"],\n",
    "                    \"Scheme\": [\"scm\", \"ss\", \"racket\"]}"
   ]
  },
  {
   "cell_type": "code",
   "execution_count": 74,
   "metadata": {
    "collapsed": false
   },
   "outputs": [
    {
     "data": {
      "text/plain": [
       "dict_items([('C', ['gcc', 'c', 'h']), ('Clojure', ['clj', 'cljs', 'cljs', 'edn', 'clojure']), ('Perl', ['pl', 'pm', 't', 'pod', 'perl']), ('Java', ['java', 'class', 'jar']), ('Python', ['py', 'pyw', 'pyc', 'pyo', 'pyd', 'python3', 'Python2']), ('OCaml', ['ocaml', 'ml']), ('PHP', ['php', 'phtml', 'php4', 'php3', 'php5', 'phps', 'hack']), ('Javascript', ['js', 'javascript']), ('Scala', ['scala']), ('Common Lisp', ['sbcl']), ('Ruby', ['rb', 'rbw', 'jruby', 'yarv']), ('C#', ['csharp']), ('Scheme', ['scm', 'ss', 'racket']), ('Haskell', ['hs', 'lhs', 'ghc'])])"
      ]
     },
     "execution_count": 74,
     "metadata": {},
     "output_type": "execute_result"
    }
   ],
   "source": [
    "file_extentions.items()\n"
   ]
  },
  {
   "cell_type": "code",
   "execution_count": 80,
   "metadata": {
    "collapsed": true
   },
   "outputs": [],
   "source": [
    "def get_extention(ext):\n",
    "    '''\n",
    "    iterates through the extensions list.\n",
    "    if it finds the ext in the lists of values,\n",
    "    the key for those values is returned.\n",
    "    '''\n",
    "    for key, value in file_extentions.items():\n",
    "        if ext in value:\n",
    "            return key"
   ]
  },
  {
   "cell_type": "code",
   "execution_count": 81,
   "metadata": {
    "collapsed": false
   },
   "outputs": [],
   "source": [
    "def read_train_files():\n",
    "    '''\n",
    "    opens training files.\n",
    "    for each file it uses the get_extention function\n",
    "    to find the text after the \".\" and calls that the ext.\n",
    "    ,and returns the value which is appended to the file content itself\n",
    "    '''\n",
    "    files = glob.glob('bench/binarytrees/*.*')\n",
    "    texts = []\n",
    "    for file in files:\n",
    "        ext = get_extention(file.split(\".\")[-1])\n",
    "        with open(file) as f:\n",
    "            if ext != None:\n",
    "                texts.append((f.read(), ext))\n",
    "    return texts"
   ]
  },
  {
   "cell_type": "code",
   "execution_count": 82,
   "metadata": {
    "collapsed": false
   },
   "outputs": [
    {
     "data": {
      "text/plain": [
       "[(';; The Computer Language Benchmarks Game\\n;; http://benchmarksgame.alioth.debian.org/\\n;\\n;; Adapted from the Java -server version\\n;\\n;; contributed by Marko Kocic\\n;; modified by Kenneth Jonsson, restructured to allow usage of \\'pmap\\'\\n;; modified by Andy Fingerhut to use faster primitive math ops, and\\n;; deftype instead of defrecord for smaller tree nodes.\\n;; modified by Rich Hickey for Clojure 1.3\\n\\n(ns binarytrees\\n  (:gen-class))\\n\\n(set! *warn-on-reflection* true)\\n(set! *unchecked-math* true)\\n\\n(definterface ITreeNode\\n  (^long item [])\\n  (left [])\\n  (right []))\\n\\n;; These TreeNode\\'s take up noticeably less memory than a similar one\\n;; implemented using defrecord.\\n\\n(deftype TreeNode [left right ^long item]\\n  ITreeNode\\n  (item [this] item)\\n  (left [this] left)\\n  (right [this] right))\\n\\n(defn bottom-up-tree [^long item ^long depth]\\n  (if (zero? depth)\\n    (TreeNode. nil nil item)\\n    (TreeNode.\\n     (bottom-up-tree (dec (* 2 item))\\n                     (dec depth))\\n     (bottom-up-tree (* 2 item)\\n                     (dec depth))\\n     item)))\\n\\n(defn item-check ^long [^TreeNode node]\\n  (if (nil? (.left node))\\n    (.item node)\\n    (+ (+ (.item node)\\n          (item-check (.left node)))\\n       (- (item-check (.right node))))))\\n\\n(defn iterate-trees [^long mx ^long mn ^long d]\\n  (let [iterations (bit-shift-left 1 (- (+ mx mn) d))]\\n    (format \"%d\\\\t trees of depth %d\\\\t check: %d\" (* 2 iterations) d\\n            (reduce + (map (fn [i]\\n                             (+ (item-check (bottom-up-tree i d))\\n                                (item-check (bottom-up-tree (- i) d))))\\n                           (range 1 (inc iterations)))))))\\n\\n(def min-depth 4)\\n\\n(defn main [max-depth]\\n  (let [stretch-depth (inc max-depth)]\\n    (let [tree (bottom-up-tree 0 stretch-depth)\\n          check (item-check tree)]\\n      (println (format \"stretch tree of depth %d\\\\t check: %d\" stretch-depth check)))\\n    (let [long-lived-tree (bottom-up-tree 0 max-depth) ]\\n      (doseq [trees-nfo (map (fn [d]\\n                                (iterate-trees max-depth min-depth d))\\n(range min-depth stretch-depth 2)) ]\\n        (println trees-nfo))\\n      (println (format \"long lived tree of depth %d\\\\t check: %d\" max-depth (item-check long-lived-tree))))))\\n\\n(defn -main [& args]\\n  (let [n (if (first args) (Integer/parseInt (first args)) 0)\\n        max-depth (if (> (+ min-depth 2) n) (+ min-depth 2) n)]\\n    (main max-depth)\\n    (shutdown-agents)))\\n',\n",
       "  'Clojure'),\n",
       " (';; The Computer Language Benchmarks Game\\n;; http://benchmarksgame.alioth.debian.org/\\n\\n;; Adapted from the Java -server version\\n;; contributed by Marko Kocic\\n;; modified by Kenneth Jonsson, restructured to allow usage of \\'pmap\\'\\n;; modified by Andy Fingerhut to use faster primitive math ops, and\\n;; deftype instead of defrecord for smaller tree nodes.\\n;; modified by Rich Hickey for Clojure 1.3\\n;; modified promise/delivery improvement by Stuart Halloway\\n;; small hints by David Nolen and Alex Miller\\n                                        ;\\n(ns binarytrees\\n  (:gen-class))\\n\\n(set! *warn-on-reflection* true)\\n(set! *unchecked-math* true)\\n\\n(def ^:const ^long min-depth 4)\\n\\n(deftype TreeNode [left right ^long item])\\n\\n(defn make-tree [^long item ^long depth]\\n  (if (zero? depth)\\n    (TreeNode. nil nil item)\\n    (let [i2 (* 2 item)\\n          ddec (dec depth)]\\n      (TreeNode. (make-tree (dec i2) ddec) (make-tree i2 ddec) item))))\\n\\n(defn item-check ^long [^TreeNode node]\\n  (if (nil? (.left node))\\n    (.item node)\\n    (- (+ (.item node)\\n          (item-check (.left node)))\\n       (item-check (.right node)))))\\n\\n(defn iterate-trees [^long mx ^long mn ^long d]\\n  (let [iterations (bit-shift-left 1 (long (+ mx mn (- d))))]\\n    (format \"%d\\\\t trees of depth %d\\\\t check: %d\"\\n            (* 2 iterations)\\n            d\\n            (loop [result 0\\n         i 1]\\n    (if (= i (inc iterations))\\n      result\\n      (recur (+ result\\n                (item-check (make-tree i d))\\n                (item-check (make-tree (- i) d)))\\n             (inc i)))))))\\n\\n(defn main [^long max-depth]\\n  (let [stretch-depth (inc max-depth)]\\n    (let [tree (make-tree 0 stretch-depth)\\n          check (item-check tree)]\\n      (println (format \"stretch tree of depth %d\\\\t check: %d\" stretch-depth check)))\\n    (let [agents (repeatedly (.availableProcessors (Runtime/getRuntime)) #(agent []))\\n          long-lived-tree (make-tree 0 max-depth)]\\n      (loop [depth min-depth\\n             [a & more] (cycle agents)\\n             results []]\\n        (if (> depth stretch-depth)\\n          (doseq [r results] (println @r))\\n          (let [result (promise)]\\n            (send a (fn [_]\\n                      (deliver result (iterate-trees max-depth min-depth depth))))\\n            (recur (+ 2 depth) more (conj results result)))))\\n        (println (format \"long lived tree of depth %d\\\\t check: %d\" max-depth (item-check long-lived-tree))))))\\n\\n(defn -main [& args]\\n  (let [n (if (first args) (Long/parseLong (first args)) 0)\\n        max-depth (if (> (+ min-depth 2) n) (+ min-depth 2) n)]\\n    (main max-depth)\\n    (shutdown-agents)))\\n',\n",
       "  'Clojure'),\n",
       " (';; The Computer Language Benchmarks Game\\n;; http://benchmarksgame.alioth.debian.org/\\n;\\n;; Adapted from the Java -server version\\n;\\n;; contributed by Marko Kocic\\n;; modified by Kenneth Jonsson, restructured to allow usage of \\'pmap\\'\\n;; modified by Andy Fingerhut to use faster primitive math ops, and\\n;; deftype instead of defrecord for smaller tree nodes.\\n;; modified by Mike Anderson to avoid boxing overheads\\n\\n(ns binarytrees\\n  (:gen-class))\\n\\n(set! *warn-on-reflection* true)\\n\\n;; These TreeNode\\'s take up noticeably less memory than a similar one\\n;; implemented using defrecord.\\n\\n(deftype TreeNode [left right ^int item])\\n\\n(defn ^:static bottom-up-tree [^long item ^long depth]\\n  (let [int-item (int item)\\n        int-depth (int depth)]\\n    (if (<= depth 0)\\n      (TreeNode. nil nil int-item)\\n      (TreeNode.\\n       (bottom-up-tree (unchecked-dec (unchecked-multiply (int 2) int-item))\\n                       (unchecked-dec int-depth))\\n       (bottom-up-tree (unchecked-multiply (int 2) int-item)\\n                       (unchecked-dec int-depth))\\n       int-item))))\\n\\n(defn ^:static item-check ^long [^TreeNode node]\\n  (let [item (int (.item node))]\\n\\t  (if-not (.left node)\\n\\t    item\\n\\t    (unchecked-add \\n         (unchecked-add \\n           item \\n           (unchecked-int (item-check (.left node))))\\n\\t       (unchecked-negate \\n           (unchecked-int (item-check (.right node))))))))\\n\\n    \\n(defn ^:static check-trees [^long i ^long acc ^long d]    \\n  (if (<= i 0)\\n    acc\\n    (let [value (unchecked-add \\n                  (unchecked-int (item-check (bottom-up-tree i d)))\\n                  (unchecked-int (item-check (bottom-up-tree (- i) d))))]\\n      (recur (dec i) (+ acc value) d))))\\n\\n(defn iterate-trees \\n  ([mx mn d]\\n    (let [iterations (bit-shift-left 1 (int (+ mx mn (- d))))]\\n      (format \"%d\\\\t trees of depth %d\\\\t check: %d\" (* 2 iterations) d (check-trees iterations 0 d)))))\\n\\n(def min-depth 4)\\n\\n(defn main [max-depth]\\n  (let [stretch-depth (long (inc max-depth))]\\n    (let [tree (bottom-up-tree 0 stretch-depth)\\n          check (item-check tree)]\\n      (println (format \"stretch tree of depth %d\\\\t check: %d\" stretch-depth check)))\\n    (let [long-lived-tree (bottom-up-tree 0 max-depth) ]\\n      ;; The following line is where Kenneth Jonsson used pmap.  On a\\n      ;; 1-core machine, I have found significantly less user+system\\n      ;; CPU time used when it is map, and slightly less elapsed time\\n      ;; (at the cost of more user+system CPU time) when it is pmap.\\n      (doseq [trees-nfo (map (fn [d]\\n                                (iterate-trees max-depth min-depth d))\\n\\t\\t\\t      (range min-depth stretch-depth 2)) ]\\n        (println trees-nfo))\\n      (println (format \"long lived tree of depth %d\\\\t check: %d\" max-depth (item-check long-lived-tree))))))\\n\\n(defn -main [& args]\\n  (let [n (if (first args) (Integer/parseInt (first args)) 0)\\n        max-depth (if (> (+ min-depth 2) n) (+ min-depth 2) n)]\\n    (main max-depth)\\n    (shutdown-agents)))\\n',\n",
       "  'Clojure'),\n",
       " ('\\ufeff/*\\n      The Computer Language Benchmarks Game\\n      http://benchmarksgame.alioth.debian.org/ \\n\\n      contributed by Marek Safar  \\n      optimized by kasthack\\n*/\\nusing System;\\n\\nclass BinaryTrees {\\n   const int minDepth = 4;\\n   public static void Main( String[] args ) {\\n      int n = 0;\\n      if ( args.Length > 0 ) n = Int32.Parse(args[0]);\\n      int maxDepth = Math.Max(minDepth + 2, n);\\n      int stretchDepth = maxDepth + 1;\\n      int check = ( TreeNode.bottomUpTree(0, stretchDepth) ).itemCheck();\\n      Console.WriteLine(\"stretch tree of depth {0}\\\\t check: {1}\", stretchDepth, check);\\n      TreeNode longLivedTree = TreeNode.bottomUpTree(0, maxDepth);\\n      for ( int depth = minDepth; depth <= maxDepth; depth += 2 ) {\\n         int iterations = 1 << ( maxDepth - depth + minDepth );\\n         check = 0;\\n         for ( int i = 1; i <= iterations; i++ ) {\\n            check += ( TreeNode.bottomUpTree(i, depth) ).itemCheck();\\n            check += ( TreeNode.bottomUpTree(-i, depth) ).itemCheck();\\n         }\\n         Console.WriteLine(\"{0}\\\\t trees of depth {1}\\\\t check: {2}\",\\n             iterations * 2, depth, check);\\n      }\\n      Console.WriteLine(\"long lived tree of depth {0}\\\\t check: {1}\",\\n          maxDepth, longLivedTree.itemCheck());\\n   }\\n\\n   class TreeNode {\\n      private TreeNode left, right;\\n      private int item;\\n      TreeNode( int item ) {\\n         this.item = item;\\n      }\\n      internal static TreeNode bottomUpTree( int item, int depth ) {\\n         TreeNode t;\\n         ChildTreeNodes(out t, item, depth - 1);\\n         return t;\\n      }\\n      static void ChildTreeNodes( out TreeNode node, int item, int depth ) {\\n         node = new TreeNode(item);\\n         if ( depth > 0 ) {\\n            ChildTreeNodes(out node.left, 2 * item - 1, depth - 1);\\n            ChildTreeNodes(out node.right, 2 * item, depth - 1);\\n         }\\n      }\\n      internal int itemCheck() {\\n         if ( right == null ) return item;\\n         else return item + left.itemCheck() - right.itemCheck();\\n      }\\n   }\\n}\\n',\n",
       "  'C#'),\n",
       " ('/* The Computer Language Benchmarks Game\\n   http://benchmarksgame.alioth.debian.org/ \\n\\n   contributed by Marek Safar  \\n*/\\n\\nusing System;\\n\\nclass BinaryTrees\\n{\\n   const int minDepth = 4;\\n\\n   public static void Main(String[] args)\\n   {\\n      int n = 0;\\n      if (args.Length > 0) n = Int32.Parse(args[0]);\\n\\n      int maxDepth = Math.Max(minDepth + 2, n);\\n      int stretchDepth = maxDepth + 1;\\n\\n      int check = (TreeNode.bottomUpTree(0,stretchDepth)).itemCheck();\\n      Console.WriteLine(\"stretch tree of depth {0}\\\\t check: {1}\", stretchDepth, check);\\n\\n      TreeNode longLivedTree = TreeNode.bottomUpTree(0,maxDepth);\\n\\n      for (int depth=minDepth; depth<=maxDepth; depth+=2){\\n         int iterations = 1 << (maxDepth - depth + minDepth);\\n\\n         check = 0;\\n         for (int i=1; i<=iterations; i++)\\n         {\\n            check += (TreeNode.bottomUpTree(i,depth)).itemCheck();\\n            check += (TreeNode.bottomUpTree(-i,depth)).itemCheck();\\n         }\\n\\n         Console.WriteLine(\"{0}\\\\t trees of depth {1}\\\\t check: {2}\",\\n            iterations*2, depth, check);\\n      }\\n\\n      Console.WriteLine(\"long lived tree of depth {0}\\\\t check: {1}\",\\n         maxDepth, longLivedTree.itemCheck());\\n   }\\n\\n\\n   struct TreeNode\\n   {\\n      class Next\\n   \\t  {\\n\\t      public TreeNode left, right;\\n      }\\n   \\t\\n      private Next next;\\n      private int item;\\n\\n      TreeNode(int item){\\n         this.item = item;\\n         this.next = null;\\n      }\\n\\n      internal static TreeNode bottomUpTree(int item, int depth){\\n         if (depth>0){\\n            return new TreeNode(\\n                 bottomUpTree(2*item-1, depth-1)\\n               , bottomUpTree(2*item, depth-1)\\n               , item\\n               );\\n         }\\n         else {\\n            return new TreeNode(item);\\n         }\\n      }\\n\\n      TreeNode(TreeNode left, TreeNode right, int item){\\n      \\t this.next = new Next ();\\n         this.next.left = left;\\n         this.next.right = right;\\n         this.item = item;\\n      }\\n\\n      internal int itemCheck(){\\n         // if necessary deallocate here\\n         if (next==null) return item;\\n         else return item + next.left.itemCheck() - next.right.itemCheck();\\n      }\\n   }\\n}\\n',\n",
       "  'C#'),\n",
       " ('/* The Computer Language Benchmarks Game\\n * http://benchmarksgame.alioth.debian.org/\\n\\n   contributed by Kevin Carson\\n   compilation:\\n       gcc -O3 -fomit-frame-pointer -funroll-loops -static binary-trees.c -lm\\n       icc -O3 -ip -unroll -static binary-trees.c -lm\\n*/\\n\\n#include <malloc.h>\\n#include <math.h>\\n#include <stdio.h>\\n#include <stdlib.h>\\n\\n\\ntypedef struct tn {\\n    struct tn*    left;\\n    struct tn*    right;\\n    long          item;\\n} treeNode;\\n\\n\\ntreeNode* NewTreeNode(treeNode* left, treeNode* right, long item)\\n{\\n    treeNode*    new;\\n\\n    new = (treeNode*)malloc(sizeof(treeNode));\\n\\n    new->left = left;\\n    new->right = right;\\n    new->item = item;\\n\\n    return new;\\n} /* NewTreeNode() */\\n\\n\\nlong ItemCheck(treeNode* tree)\\n{\\n    if (tree->left == NULL)\\n        return tree->item;\\n    else\\n        return tree->item + ItemCheck(tree->left) - ItemCheck(tree->right);\\n} /* ItemCheck() */\\n\\n\\ntreeNode* BottomUpTree(long item, unsigned depth)\\n{\\n    if (depth > 0)\\n        return NewTreeNode\\n        (\\n            BottomUpTree(2 * item - 1, depth - 1),\\n            BottomUpTree(2 * item, depth - 1),\\n            item\\n        );\\n    else\\n        return NewTreeNode(NULL, NULL, item);\\n} /* BottomUpTree() */\\n\\n\\nvoid DeleteTree(treeNode* tree)\\n{\\n    if (tree->left != NULL)\\n    {\\n        DeleteTree(tree->left);\\n        DeleteTree(tree->right);\\n    }\\n\\n    free(tree);\\n} /* DeleteTree() */\\n\\n\\nint main(int argc, char* argv[])\\n{\\n    unsigned   N, depth, minDepth, maxDepth, stretchDepth;\\n    treeNode   *stretchTree, *longLivedTree, *tempTree;\\n\\n    N = atol(argv[1]);\\n\\n    minDepth = 4;\\n\\n    if ((minDepth + 2) > N)\\n        maxDepth = minDepth + 2;\\n    else\\n        maxDepth = N;\\n\\n    stretchDepth = maxDepth + 1;\\n\\n    stretchTree = BottomUpTree(0, stretchDepth);\\n    printf\\n    (\\n        \"stretch tree of depth %u\\\\t check: %li\\\\n\",\\n        stretchDepth,\\n        ItemCheck(stretchTree)\\n    );\\n\\n    DeleteTree(stretchTree);\\n\\n    longLivedTree = BottomUpTree(0, maxDepth);\\n\\n    for (depth = minDepth; depth <= maxDepth; depth += 2)\\n    {\\n        long    i, iterations, check;\\n\\n        iterations = pow(2, maxDepth - depth + minDepth);\\n\\n        check = 0;\\n\\n        for (i = 1; i <= iterations; i++)\\n        {\\n            tempTree = BottomUpTree(i, depth);\\n            check += ItemCheck(tempTree);\\n            DeleteTree(tempTree);\\n\\n            tempTree = BottomUpTree(-i, depth);\\n            check += ItemCheck(tempTree);\\n            DeleteTree(tempTree);\\n        } /* for(i = 1...) */\\n\\n        printf\\n        (\\n            \"%li\\\\t trees of depth %u\\\\t check: %li\\\\n\",\\n            iterations * 2,\\n            depth,\\n            check\\n        );\\n    } /* for(depth = minDepth...) */\\n\\n    printf\\n    (\\n        \"long lived tree of depth %u\\\\t check: %li\\\\n\",\\n        maxDepth,\\n        ItemCheck(longLivedTree)\\n    );\\n\\n    return 0;\\n} /* main() */\\n',\n",
       "  'C'),\n",
       " ('/* \\n * The Computer Language Benchmarks Game \\n * http://benchmarksgame.alioth.debian.org/\\n *\\n * Contributed by Mr Ledrug\\n*/\\n\\n#include <stdio.h>\\n#include <stdlib.h>\\n\\ntypedef struct node_s {\\n   int item;\\n   struct node_s *left, *right;\\n} node;\\n\\nnode * make_tree(int depth, int root_item) {\\n   const int len = 1 << depth;\\n\\n   // allocate the whole tree in one go, more of a bin heap really\\n   node * const root = (node*)calloc(len, sizeof(node));\\n\\n   root[1].item = root_item;\\n   root[1].left = root + 2;\\n   root[1].right = root + 3;\\n\\n   for (int i = 2; i < len; i++) {\\n      root[i].item = 2 * root[i/2].item - 1 + (i&1);\\n\\n      if (i * 2 >= len) continue;\\n\\n      root[i].left = root + i * 2;\\n      root[i].right = root + i * 2 + 1;\\n   }\\n\\n   return root + 1;\\n}\\n\\nvoid del_tree(node *s) { free(s - 1); }\\n\\n// It\\'s actually faster to do the check sequentially because the whole\\n// tree is in one array.  Here traversing the tree by pointer is just\\n// to show the bin heap functions as a linked tree\\nint check_tree(const node* const s) {\\n   if (!s->left)\\n      return s->item;\\n\\n   return s->item + check_tree(s->left) - check_tree(s->right);\\n}\\n\\nint main(int argc, char **argv) {\\n   int min = 4;\\n   int max = atoi(argv[1]);\\n\\n   if (max < 6) max = 6;\\n\\n   node *stretch = make_tree(max + 1, 0);\\n   printf(\"stretch tree of depth %d\\\\t check: %d\\\\n\",\\n      max + 1, check_tree(stretch));\\n   del_tree(stretch);\\n\\n   node *longlived = make_tree(max, 0);\\n\\n   for (int d = min; d <= max; d+= 2) {\\n      int iter = 1 << (max + min - d);\\n      int check = 0;\\n\\n      /* this can be easily parallel, unfortunately malloc\\'s locking\\n         slows down the thing by a lot with either -pthread\\n         or -fopenmp, so much so that it\\'s not worth the hassle */\\n      for (int i = 1; i <= iter; i++){\\n         node *s = make_tree(d, i);\\n         check += check_tree(s);\\n         del_tree(s);\\n\\n         s = make_tree(d, -i);\\n         check += check_tree(s);\\n         del_tree(s);\\n      }\\n\\n      printf(\"%d\\\\t trees of depth %d\\\\t check: %d\\\\n\",\\n         iter * 2, d, check);\\n   }\\n\\n   printf(\"long lived tree of depth %d\\\\t check: %d\\\\n\",\\n      max, check_tree(longlived));\\n   del_tree(longlived);\\n\\n   return 0;\\n}\\n',\n",
       "  'C'),\n",
       " ('// The Computer Language Benchmarks Game\\n// http://benchmarksgame.alioth.debian.org/\\n//\\n// Contributed by Jeremy Zerfas\\n// Based on the C++ program from Jon Harrop, Alex Mizrahi, and Bruno Coutinho.\\n\\n// This controls the width of lines that are output by this program.\\n#define MAXIMUM_LINE_WIDTH  60\\n\\n#include <stdint.h>\\n#include <stdlib.h>\\n#include <stdio.h>\\n\\ntypedef off_t off64_t; // This is needed to keep APR happy on 32 bit systems.\\n#include <apr_pools.h>\\n\\n// intptr_t should be the native integer type on most sane systems.\\ntypedef intptr_t intnative_t;\\n\\ntypedef struct tree_node{\\n   struct tree_node   * left_Node, * right_Node;\\n   int32_t            value;\\n} tree_node;\\n\\n\\n// Create a binary tree of depth tree_Depth in memory_Pool, set the root node\\'s\\n// value to root_Node_Value, and finally return a pointer to the created binary\\n// tree.\\nstatic inline tree_node * create_Tree(const intnative_t root_Node_Value,\\n  const intnative_t tree_Depth, apr_pool_t * const memory_Pool){\\n   tree_node * const root_Node=apr_palloc(memory_Pool, sizeof(tree_node));\\n\\n   // If tree_Depth is one or more then recursively call create_Tree() in order\\n   // to create the left and right subtrees using 2*root_Node_Value-1 and\\n   // 2*root_Node_Value respectively as the root values for those subtrees.\\n   if(tree_Depth>0){\\n      root_Node->left_Node=create_Tree(2*root_Node_Value-1, tree_Depth-1,\\n        memory_Pool);\\n      root_Node->right_Node=create_Tree(2*root_Node_Value, tree_Depth-1,\\n        memory_Pool);\\n   }else\\n      root_Node->left_Node=root_Node->right_Node=NULL;\\n\\n   root_Node->value=root_Node_Value;\\n\\n   return root_Node;\\n}\\n\\n\\n// Compute and return the checksum for the binary tree that has root_Node as the\\n// root node.\\nstatic inline intnative_t compute_Tree_Checksum(\\n  const tree_node * const root_Node){\\n   // If there are subtrees then recursively call compute_Tree_Checksum() on\\n   // them and factor their values into the checksum, otherwise just return\\n   // the value of root_Node.\\n   if(root_Node->left_Node)\\n      return compute_Tree_Checksum(root_Node->left_Node)-\\n        compute_Tree_Checksum(root_Node->right_Node)+root_Node->value;\\n   else\\n      return root_Node->value;\\n}\\n\\n\\nint main(int argc, char ** argv){\\n   // Set minimum_Tree_Depth to 4 and maximum_Tree_Depth to the maximum of what\\n   // was specified as the argument to the program and minimum_Tree_Depth+2.\\n   const intnative_t minimum_Tree_Depth=4;\\n   intnative_t maximum_Tree_Depth=atoi(argv[1]);\\n   if(maximum_Tree_Depth < minimum_Tree_Depth+2)\\n      maximum_Tree_Depth=minimum_Tree_Depth+2;\\n\\n   apr_initialize();\\n   apr_pool_t * memory_Pool;\\n\\n   // Create a memory pool, create a binary tree of depth maximum_Tree_Depth+1,\\n   // compute the checksum of the binary tree, print the statistics, and then\\n   // delete the memory pool.\\n   apr_pool_create_unmanaged(&memory_Pool);\\n   tree_node * stretch_Tree=create_Tree(0, maximum_Tree_Depth+1, memory_Pool);\\n   printf(\"stretch tree of depth %jd\\\\t check: %jd\\\\n\",\\n     (intmax_t)maximum_Tree_Depth+1,\\n     (intmax_t)compute_Tree_Checksum(stretch_Tree));\\n   apr_pool_destroy(memory_Pool);\\n\\n   // Create a memory pool and then create a long-lived binary tree of depth\\n   // maximum_Tree_Depth which will be left alone for a while while\\n   // more binary trees get allocated and deallocaited as required by the\\n   // rules. We\\'ll finish working with this later.\\n   apr_pool_create_unmanaged(&memory_Pool);\\n   tree_node * long_Lived_Tree=create_Tree(0, maximum_Tree_Depth, memory_Pool);\\n\\n   // Create a lot of binary trees in parallel of depths ranging from\\n   // minimum_Tree_Depth to maximum_Tree_Depth, compute and tally up all their\\n   // checksums, destroy the trees, and then record the statistics to\\n   // output_Buffer[] so they can be displayed in order later.\\n   char output_Buffer[maximum_Tree_Depth+1][MAXIMUM_LINE_WIDTH+1];\\n   intnative_t current_Tree_Depth;\\n   #pragma omp parallel for\\n   for(current_Tree_Depth=minimum_Tree_Depth;\\n     current_Tree_Depth<=maximum_Tree_Depth; current_Tree_Depth+=2){\\n      intnative_t iterations=1<<(maximum_Tree_Depth-current_Tree_Depth+\\n        minimum_Tree_Depth);\\n\\n      // Create a memory pool for this thread to use.\\n      apr_pool_t * thread_Memory_Pool;\\n      apr_pool_create_unmanaged(&thread_Memory_Pool);\\n\\n      intnative_t i=1, total_Trees_Checksum=0;\\n      for(; i<=iterations; ++i){\\n         // Create two binary trees of depth current_Tree_Depth but with one\\n         // having a root node value of i and the other a root node value of\\n         // -1.\\n         tree_node * const tree_1=create_Tree(i, current_Tree_Depth,\\n           thread_Memory_Pool);\\n         tree_node * const tree_2=create_Tree(-i, current_Tree_Depth,\\n           thread_Memory_Pool);\\n\\n         // Compute the checksums for both trees and add them to\\n         // total_Trees_Checksum.\\n         total_Trees_Checksum+=compute_Tree_Checksum(tree_1)+\\n           compute_Tree_Checksum(tree_2);\\n\\n         apr_pool_clear(thread_Memory_Pool);\\n      }\\n\\n      apr_pool_destroy(thread_Memory_Pool);\\n\\n      // Record the statistics for the trees of depth current_Tree_Depth.\\n      sprintf(output_Buffer[current_Tree_Depth],\\n        \"%jd\\\\t trees of depth %jd\\\\t check: %jd\\\\n\", (intmax_t)2*iterations,\\n        (intmax_t)current_Tree_Depth, (intmax_t)total_Trees_Checksum);\\n   }\\n\\n   // Print the statistics for all of the various tree depths.\\n   for(current_Tree_Depth=minimum_Tree_Depth;\\n     current_Tree_Depth<=maximum_Tree_Depth; current_Tree_Depth+=2)\\n      printf(\"%s\", output_Buffer[current_Tree_Depth]);\\n\\n   // Compute the checksum of the long-lived binary tree that we created\\n   // earlier, print the statistics, and then delete the memory pool.\\n   printf(\"long lived tree of depth %jd\\\\t check: %jd\\\\n\",\\n     (intmax_t)maximum_Tree_Depth,\\n     (intmax_t)compute_Tree_Checksum(long_Lived_Tree));\\n   apr_pool_destroy(memory_Pool);\\n\\n   apr_terminate();\\n   return 0;\\n}\\n',\n",
       "  'C'),\n",
       " ('/* The Computer Language Benchmarks Game\\n * http://benchmarksgame.alioth.debian.org/\\n *\\n * Contributed by Eckehard Berns\\n * Based on code by Kevin Carson\\n */\\n\\n#include <stdlib.h>\\n#include <stdio.h>\\n#include <pthread.h>\\n\\ntypedef struct node {\\n   struct node *left, *right;\\n   long item;\\n} node;\\n\\nstatic node *\\nnew_node(node *left, node *right, long item)\\n{\\n   node *ret;\\n\\n   ret = malloc(sizeof(node));\\n   ret->left = left;\\n   ret->right = right;\\n   ret->item = item;\\n\\n   return ret;\\n}\\n\\nstatic long\\nitem_check(node *tree)\\n{\\n   if (tree->left == NULL)\\n      return tree->item;\\n   else\\n      return tree->item + item_check(tree->left) -\\n          item_check(tree->right);\\n}\\n\\nstatic node *\\nbottom_up_tree(long item, int depth)\\n{\\n   if (depth > 0)\\n      return new_node(bottom_up_tree(2 * item - 1, depth - 1),\\n          bottom_up_tree(2 * item, depth - 1), item);\\n   else\\n      return new_node(NULL, NULL, item);\\n}\\n\\nstatic void\\ndelete_tree(node *tree)\\n{\\n   if (tree->left != NULL) {\\n      delete_tree(tree->left);\\n      delete_tree(tree->right);\\n   }\\n   free(tree);\\n}\\n\\nstruct worker_args {\\n   long iter, check;\\n   int depth;\\n   pthread_t id;\\n   struct worker_args *next;\\n};\\n\\nstatic void *\\ncheck_tree_of_depth(void *_args)\\n{\\n   struct worker_args *args = _args;\\n   long i, iter, check, depth;\\n   node *tmp;\\n\\n   iter = args->iter;\\n   depth = args->depth;\\n\\n   check = 0;\\n   for (i = 1; i <= iter; i++) {\\n      tmp = bottom_up_tree(i, depth);\\n      check += item_check(tmp);\\n      delete_tree(tmp);\\n\\n      tmp = bottom_up_tree(-i, depth);\\n      check += item_check(tmp);\\n      delete_tree(tmp);\\n   }\\n\\n   args->check = check;\\n   return NULL;\\n}\\n\\nint\\nmain(int ac, char **av)\\n{\\n   node *stretch, *longlived;\\n   struct worker_args *args, *targs, *hargs;\\n   int n, depth, mindepth, maxdepth, stretchdepth;\\n\\n   n = ac > 1 ? atoi(av[1]) : 10;\\n   if (n < 1) {\\n      fprintf(stderr, \"Wrong argument.\\\\n\");\\n      exit(1);\\n   }\\n\\n   mindepth = 4;\\n   maxdepth = mindepth + 2 > n ? mindepth + 2 : n;\\n   stretchdepth = maxdepth + 1;\\n\\n   stretch = bottom_up_tree(0, stretchdepth);\\n   printf(\"stretch tree of depth %u\\\\t check: %li\\\\n\", stretchdepth,\\n       item_check(stretch));\\n   delete_tree(stretch);\\n\\n   longlived = bottom_up_tree(0, maxdepth);\\n\\n   hargs = NULL;\\n   targs = NULL;\\n   for (depth = mindepth; depth <= maxdepth; depth += 2) {\\n\\n      args = malloc(sizeof(struct worker_args));\\n      args->iter = 1 << (maxdepth - depth + mindepth);\\n      args->depth = depth;\\n      args->next = NULL;\\n      if (targs == NULL) {\\n         hargs = args;\\n         targs = args;\\n      } else {\\n         targs->next = args;\\n         targs = args;\\n      }\\n      pthread_create(&args->id, NULL, check_tree_of_depth, args);\\n   }\\n\\n   while (hargs != NULL) {\\n      args = hargs;\\n      pthread_join(args->id, NULL);\\n      printf(\"%ld\\\\t trees of depth %d\\\\t check: %ld\\\\n\",\\n          args->iter * 2, args->depth, args->check);\\n      hargs = args->next;\\n      free(args);\\n   }\\n\\n   printf(\"long lived tree of depth %d\\\\t check: %ld\\\\n\", maxdepth,\\n       item_check(longlived));\\n\\n   /* not in original C version: */\\n   delete_tree(longlived);\\n\\n   return 0;\\n}\\n\\n',\n",
       "  'C'),\n",
       " ('/* The Computer Language Benchmarks Game\\n * http://benchmarksgame.alioth.debian.org/\\n *\\n * contributed by Francesco Abbate\\n */\\n\\n\\n#include <stdlib.h>\\n#include <stdio.h>\\n\\ntypedef off_t off64_t;\\n#include <apr_pools.h>\\n\\nconst size_t\\tLINE_SIZE = 64;\\n\\nstruct node\\n{\\n  int i;\\n  struct node *left;\\n  struct node *right;\\n};\\n\\nint\\nnode_check(const struct node *n)\\n{\\n  if (n->left)\\n    {\\n      int lc = node_check (n->left);\\n      int rc = node_check (n->right);\\n      return lc + n->i - rc;\\n    }\\n\\n  return n->i;\\n}\\n\\nstruct node *\\nnode_get_avail (apr_pool_t *pool)\\n{\\n  return apr_palloc (pool, sizeof(struct node));\\n}\\n\\nstruct node *\\nmake (int i, int depth, apr_pool_t *pool)\\n{\\n  struct node *curr = node_get_avail (pool);\\n\\n  curr->i = i;\\n\\n  if (depth > 0)\\n    {\\n      curr->left  = make (2*i-1, depth - 1, pool);\\n      curr->right = make (2*i  , depth - 1, pool);\\n    }\\n  else\\n    {\\n      curr->left  = NULL;\\n      curr->right = NULL;\\n    }\\n\\n  return curr;\\n}\\n\\nint\\nmain(int argc, char *argv[])\\n{\\n  apr_pool_t *long_lived_pool;\\n  int min_depth = 4;\\n  int req_depth = (argc == 2 ? atoi(argv[1]) : 10);\\n  int max_depth = (req_depth > min_depth + 2 ? req_depth : min_depth + 2);\\n  int stretch_depth = max_depth+1;\\n\\n  apr_initialize();\\n\\n  /* Alloc then dealloc stretchdepth tree */\\n  {\\n    apr_pool_t *store;\\n    struct node *curr;\\n\\n    apr_pool_create (&store, NULL);\\n    curr = make (0, stretch_depth, store);\\n    printf (\"stretch tree of depth %i\\\\t check: %i\\\\n\", stretch_depth, \\n\\t    node_check (curr));\\n    apr_pool_destroy (store);\\n  }\\n\\n  apr_pool_create (&long_lived_pool, NULL);\\n\\n  {\\n    struct node *long_lived_tree = make(0, max_depth, long_lived_pool);\\n\\n    /* buffer to store output of each thread */\\n    char *outputstr = (char*) malloc(LINE_SIZE * (max_depth +1) * sizeof(char));\\n    int d;\\n\\n#pragma omp parallel for\\n    for (d = min_depth; d <= max_depth; d += 2)\\n      {\\n        int iterations = 1 << (max_depth - d + min_depth);\\n\\tapr_pool_t *store;\\n        int c = 0, i;\\n\\n\\tapr_pool_create (&store, NULL);\\n\\n        for (i = 1; i <= iterations; ++i)\\n\\t  {\\n\\t    struct node *a, *b;\\n\\n\\t    a = make ( i, d, store);\\n\\t    b = make (-i, d, store);\\n            c += node_check (a) + node_check (b);\\n\\t    apr_pool_clear (store);\\n        }\\n\\tapr_pool_destroy (store);\\n\\t\\n\\t/* each thread write to separate location */\\n\\tsprintf(outputstr + LINE_SIZE * d, \"%d\\\\t trees of depth %d\\\\t check: %d\\\\n\", (2 * iterations), d, c);\\n      }\\n\\n    /* print all results */\\n    for (d = min_depth; d <= max_depth; d += 2)\\n      printf(\"%s\", outputstr + (d * LINE_SIZE) );\\n    free(outputstr);\\n\\n    printf (\"long lived tree of depth %i\\\\t check: %i\\\\n\", max_depth, \\n\\t    node_check (long_lived_tree));\\n\\n    return 0;\\n  }\\n}\\n',\n",
       "  'C'),\n",
       " ('/* The Computer Language Benchmarks Game\\n * http://benchmarksgame.alioth.debian.org/\\n *\\n * contributed by Kenneth Jonsson\\n */\\n#include <alloca.h>\\n#include <pthread.h>\\n#include <stdio.h>\\n#include <stdlib.h>\\n\\n/* The work area are for local variables and return addresses. */\\n#define STACK_WORK_SZ 32*1024\\n\\n/*\\n * Assume 4kB pages, which is true for both i386 and x86_64, some\\n * OS:es requires stack sizes aligned to a page boundary.\\n * Linux does not, OS X does.\\n */\\n#define PAGE_SIZE (1 << 12)\\n\\n#define bottom_up_tree(item, depth)                                     \\\\\\n    init_node(alloca(sizeof(struct node) * num_elem(depth)),            \\\\\\n              item,                                                     \\\\\\n              num_elem(depth))\\n\\nstruct node {\\n    int item;\\n    struct node *left;\\n    struct node *right;\\n};\\n\\nstruct item_worker_data {\\n    int iterations;\\n    int depth;\\n    int check;\\n};\\n\\nstruct args {\\n    int min_depth;\\n    int max_depth;\\n};\\n\\n\\nstatic int\\nnum_elem(int height)\\n{\\n    if (height < 0)\\n        return 0;\\n    return (1 << height) + num_elem(height - 1);\\n}\\n\\n/*\\n * Some pthread implementations requires that the stack size is a\\n * multiple of the size of a page\\n */\\nstatic int\\nstack_sz(int depth)\\n{\\n    int sz = (num_elem(depth) * sizeof(struct node) + STACK_WORK_SZ);\\n    return (sz + PAGE_SIZE - 1) & ~(PAGE_SIZE - 1);\\n}\\n\\nstatic int\\nnode_check(const struct node *n)\\n{\\n    if (n->left)\\n        return node_check(n->left) + n->item - node_check(n->right);\\n    return n->item;\\n}\\n\\nstatic struct node *\\ninit_node(struct node *node, int item, int n)\\n{\\n    int subtree_n; /* Number of nodes in left/right subtree to this\\n                    * node */\\n\\n    if (n == 0)\\n        return NULL;\\n\\n    node->item = item;\\n    subtree_n = n / 2;\\n    /*\\n     * left subtree is stored in the front half of the stack space and\\n     * the right subtree is stored in the back half of the stack\\n     * space\\n     */\\n    node->left = init_node(node + 1, 2 * item - 1, subtree_n);\\n    node->right = init_node(node + 1 + subtree_n, 2 * item, subtree_n);\\n    return node;\\n}\\n\\n/*\\n * Do one iteration, must be in a non-static function to ensure that\\n * the stack frame is released between each invocation, i.e. this\\n * function must not be inlined.\\n */\\nint\\ndo_one_iteration(int i, int depth)\\n{\\n    struct node *a, *b;\\n\\n    a = bottom_up_tree(i, depth);\\n    b = bottom_up_tree(-i, depth);\\n    return node_check(a) + node_check(b);\\n}\\n\\n/*\\n * Calculate the checksum at a specific depth. This is the equivalent\\n * of the body to the the outer for-loop of most other\\n * solutions. Enough space to store two trees with a depth of\\n * \\'wd->depth\\'\\n */\\nvoid *\\nitem_worker(void *arg)\\n{\\n    struct item_worker_data *wd = arg;\\n    int i;\\n\\n    for (i = 1; i <= wd->iterations; ++i)\\n        wd->check += do_one_iteration(i, wd->depth);\\n    return wd;\\n}\\n\\n/*\\n * The calculations is started in reverse order compared to most other\\n * solutions. The reason is that all data must be on the stack and the\\n * result from shallowest tree must be printed first.\\n */\\nvoid\\ndo_trees(int depth, int min_depth, int max_depth)\\n{\\n    pthread_t thread;\\n    pthread_attr_t attr;\\n    struct item_worker_data wd;\\n\\n    if (depth < min_depth)\\n        return;\\n\\n    pthread_attr_init(&attr);\\n    pthread_attr_setstacksize(&attr, stack_sz(depth + 1));\\n\\n    wd.iterations = 1 << (max_depth - depth + min_depth);\\n    wd.check = 0;\\n    wd.depth = depth;\\n    pthread_create(&thread, &attr, item_worker, &wd);\\n\\n    do_trees(depth-2, min_depth, max_depth);\\n\\n    pthread_join(thread, NULL);\\n    pthread_attr_destroy(&attr);\\n\\n    printf(\"%d\\\\t trees of depth %d\\\\t check: %d\\\\n\",\\n           2 * wd.iterations,\\n           depth,\\n           wd.check);\\n}\\n\\nvoid\\nstretchdepth_tree(int depth)\\n{\\n    struct node *stretch_tree = bottom_up_tree(0, depth);\\n\\n    printf(\"stretch tree of depth %i\\\\t check: %i\\\\n\",\\n           depth,\\n           node_check(stretch_tree));\\n}\\n\\n/*\\n * Main function with enough stack space to fit the tree used to\\n * \\'stretch\\' memory. Same space is reused to the long lived tree.\\n */\\nvoid *\\nmain_thread(void *args_)\\n{\\n    struct node *long_lived_tree;\\n    struct args *args = args_;\\n\\n    stretchdepth_tree(args->max_depth + 1);\\n    long_lived_tree = bottom_up_tree(0, args->max_depth);\\n    /*\\n     * Calculates all subtrees for every second depth ranging from\\n     * min_depth up to, but not including max_depth\\n     */\\n    do_trees(args->max_depth & ~1,\\n             args->min_depth,\\n             args->max_depth);\\n    printf(\"long lived tree of depth %i\\\\t check: %i\\\\n\",\\n           args->max_depth,\\n           node_check(long_lived_tree));\\n\\n    return NULL;\\n}\\n\\nint\\nmain(int argc, char *argv[])\\n{\\n    int req_depth = (argc == 2 ? atoi(argv[1]) : 10);\\n    pthread_t thread;\\n    pthread_attr_t attr;\\n    struct args args;\\n\\n    args.min_depth = 4;\\n    args.max_depth = (req_depth > args.min_depth + 2\\n                      ? req_depth\\n                      : args.min_depth + 2);\\n\\n    pthread_attr_init(&attr);\\n    pthread_attr_setstacksize(&attr, stack_sz(args.max_depth + 1));\\n    pthread_create(&thread, &attr, main_thread, &args);\\n    pthread_attr_destroy(&attr);\\n    pthread_join(thread, NULL);\\n\\n    return 0;\\n}\\n',\n",
       "  'C'),\n",
       " ('--\\n-- The Computer Language Benchmarks Game\\n-- http://benchmarksgame.alioth.debian.org/\\n--\\n-- Contributed by Don Stewart\\n--\\n\\nimport System.Environment\\nimport Data.Bits\\nimport Text.Printf\\n\\n--\\n-- an artificially strict tree. \\n--\\n-- normally you would ensure the branches are lazy, but this benchmark\\n-- requires strict allocation.\\n--\\ndata Tree = Nil | Node !Int !Tree !Tree\\n\\nminN = 4\\n\\nio s n t = printf \"%s of depth %d\\\\t check: %d\\\\n\" s n t\\n\\nmain = do\\n    n <- getArgs >>= readIO . head\\n    let maxN     = max (minN + 2) n\\n        stretchN = maxN + 1\\n\\n    -- stretch memory tree\\n    let c = check (make 0 stretchN)\\n    io \"stretch tree\" stretchN c\\n\\n    -- allocate a long lived tree\\n    let !long    = make 0 maxN\\n\\n    -- allocate, walk, and deallocate many bottom-up binary trees\\n    let vs = depth minN maxN\\n    mapM_ (\\\\((m,d,i)) -> io (show m ++ \"\\\\t trees\") d i) vs\\n\\n    -- confirm the the long-lived binary tree still exists\\n    io \"long lived tree\" maxN (check long)\\n\\n-- generate many trees\\ndepth :: Int -> Int -> [(Int,Int,Int)]\\ndepth d m\\n    | d <= m    = (2*n,d,sumT d n 0) : depth (d+2) m\\n    | otherwise = []\\n  where n = 1 `shiftL` (m - d + minN)\\n\\n-- allocate and check lots of trees\\nsumT :: Int -> Int -> Int -> Int\\nsumT d 0 t = t\\nsumT  d i t = sumT d (i-1) (t + a + b)\\n  where a = check (make i    d)\\n        b = check (make (-i) d)\\n\\n-- traverse the tree, counting up the nodes\\ncheck :: Tree -> Int\\ncheck Nil          = 0\\ncheck (Node i l r) = i + check l - check r\\n\\n-- build a tree\\nmake :: Int -> Int -> Tree\\nmake i 0 = Node i Nil Nil\\nmake i d = Node i (make (i2-1) d2) (make i2 d2)\\n  where i2 = 2*i; d2 = d-1\\n',\n",
       "  'Haskell'),\n",
       " ('--\\n-- The Computer Language Benchmarks Game\\n-- http://benchmarksgame.alioth.debian.org/\\n--\\n-- Contributed by Don Stewart\\n-- Parallelized by Louis Wasserman\\n\\nimport System.Environment\\nimport Control.Monad\\nimport System.Mem\\nimport Data.Bits\\nimport Text.Printf\\nimport GHC.Conc\\n\\n--\\n-- an artificially strict tree.\\n--\\n-- normally you would ensure the branches are lazy, but this benchmark\\n-- requires strict allocation.\\n--\\ndata Tree = Nil | Node !Int !Tree !Tree\\n\\nminN = 4\\n\\nio s n t = printf \"%s of depth %d\\\\t check: %d\\\\n\" s n t\\n\\nmain = do\\n    n <- getArgs >>= readIO . head\\n    let maxN     = max (minN + 2) n\\n        stretchN = maxN + 1\\n    -- stretch memory tree\\n    let c = {-# SCC \"stretch\" #-} check (make 0 stretchN)\\n    io \"stretch tree\" stretchN c\\n\\n    -- allocate a long lived tree\\n    let !long    = make 0 maxN\\n\\n    -- allocate, walk, and deallocate many bottom-up binary trees\\n    let vs = depth minN maxN\\n    mapM_ (\\\\((m,d,i)) -> io (show m ++ \"\\\\t trees\") d i) vs\\n\\n    -- confirm the the long-lived binary tree still exists\\n    io \"long lived tree\" maxN (check long)\\n\\n-- generate many trees\\ndepth :: Int -> Int -> [(Int,Int,Int)]\\ndepth d m\\n    | d <= m    = let \\n    \\ts = sumT d n 0\\n    \\trest = depth (d+2) m\\n    \\tin s `par` ((2*n,d,s) : rest)\\n    | otherwise = []\\n  where n = bit (m - d + minN)\\n\\n-- allocate and check lots of trees\\nsumT :: Int -> Int -> Int -> Int\\t\\nsumT d 0 t = t\\nsumT  d i t = a `par` b `par` sumT d (i-1) ans\\n  where a = check (make i    d)\\n        b = check (make (-i) d)\\n        ans = a + b + t\\n\\ncheck = check\\' True 0\\n\\n-- traverse the tree, counting up the nodes\\ncheck\\' :: Bool -> Int -> Tree -> Int\\ncheck\\' !b !z Nil          = z\\ncheck\\' b z (Node i l r)\\t  = check\\' (not b) (check\\' b (if b then z+i else z-i) l) r\\n\\n-- build a tree\\nmake :: Int -> Int -> Tree\\nmake i 0 = Node i Nil Nil\\nmake i d = Node i (make (i2-1) d2) (make i2 d2)\\n  where i2 = 2*i; d2 = d-1\\n',\n",
       "  'Haskell'),\n",
       " ('--\\n-- The Computer Language Benchmarks Game\\n-- http://benchmarksgame.alioth.debian.org/\\n--\\n-- Contributed by Don Stewart\\n-- Parallelized by Louis Wasserman\\n\\nimport System.Environment\\nimport Control.Monad\\nimport System.Mem\\nimport Data.Bits\\nimport Text.Printf\\nimport GHC.Conc\\n\\n\\ndata Tree = Nil | Node !Int Tree Tree\\n\\nminN = 4\\n\\nio s n t = printf \"%s of depth %d\\\\t check: %d\\\\n\" s n t\\n\\nmain = do\\n    n <- getArgs >>= readIO . head\\n    let maxN     = max (minN + 2) n\\n        stretchN = maxN + 1\\n    -- stretch memory tree\\n    let c = {-# SCC \"stretch\" #-} check (make 0 stretchN)\\n    io \"stretch tree\" stretchN c\\n\\n    -- allocate a long lived tree\\n    let !long    = make 0 maxN\\n\\n    -- allocate, walk, and deallocate many bottom-up binary trees\\n    let vs = depth minN maxN\\n    mapM_ (\\\\((m,d,i)) -> io (show m ++ \"\\\\t trees\") d i) vs\\n\\n    -- confirm the the long-lived binary tree still exists\\n    io \"long lived tree\" maxN (check long)\\n\\n-- generate many trees\\ndepth :: Int -> Int -> [(Int,Int,Int)]\\ndepth d m\\n    | d <= m    = let \\n    \\ts = sumT d n 0\\n    \\trest = depth (d+2) m\\n    \\tin s `par` ((2*n,d,s) : rest)\\n    | otherwise = []\\n  where n = bit (m - d + minN)\\n\\n-- allocate and check lots of trees\\nsumT :: Int -> Int -> Int -> Int\\t\\nsumT d 0 t = t\\nsumT  d i t = a `par` b `par` sumT d (i-1) ans\\n  where a = check (make i    d)\\n        b = check (make (-i) d)\\n        ans = a + b + t\\n\\ncheck = check\\' True 0\\n\\n-- traverse the tree, counting up the nodes\\ncheck\\' :: Bool -> Int -> Tree -> Int\\ncheck\\' !b !z Nil          = z\\ncheck\\' b z (Node i l r)\\t  = check\\' (not b) (check\\' b (if b then z+i else z-i) l) r\\n\\n-- build a tree\\nmake :: Int -> Int -> Tree\\nmake i 0 = Node i Nil Nil\\nmake i d = Node i (make (i2-1) d2) (make i2 d2)\\n  where i2 = 2*i; d2 = d-1\\n',\n",
       "  'Haskell'),\n",
       " ('<?hh\\n/* The Computer Language Benchmarks Game\\n   http://benchmarksgame.alioth.debian.org/\\n\\n   contributed by Peter Baltruschat\\n   modified by Levi Cameron\\n   PHP as HHVM/Hack by Isaac Gouy\\n*/\\n\\nclass Node {\\n   public $item;\\n   public $l;\\n   public $r;\\n}\\n\\nfunction bottomUpTree($item, $depth)\\n{\\n   $node = new Node();\\n   $node->item = $item;\\n   if (!$depth) return $node;\\n   $item2 = $item + $item;\\n   $depth--;\\n   $node->l = bottomUpTree($item2-1,$depth);\\n   $node->r = bottomUpTree($item2,$depth);\\n   return $node;\\n}\\n\\nfunction itemCheck($treeNode) { \\n   return $treeNode->item\\n      + ($treeNode->l->l === null ? itemCheck($treeNode->l) : $treeNode->l->item)\\n      - ($treeNode->r->l === null ? itemCheck($treeNode->r) : $treeNode->r->item);\\n}\\n\\n$minDepth = 4;\\n\\n$n = ($argc == 2) ? $argv[1] : 1;\\n$maxDepth = max($minDepth + 2, $n);\\n$stretchDepth = $maxDepth + 1;\\n\\n$stretchTree = bottomUpTree(0, $stretchDepth);\\nprintf(\"stretch tree of depth %d\\\\t check: %d\\\\n\", $stretchDepth, itemCheck($stretchTree));\\nunset($stretchTree);\\n\\n$longLivedTree = bottomUpTree(0, $maxDepth);\\n\\n$iterations = 1 << ($maxDepth);\\ndo\\n{\\n   $check = 0;\\n   for($i = 1; $i <= $iterations; ++$i)\\n   {\\n      $t = bottomUpTree($i, $minDepth);\\n      $check += itemCheck($t);\\n      unset($t);\\n      $t = bottomUpTree(-$i, $minDepth);\\n      $check += itemCheck($t);\\n      unset($t);\\n   }\\n   \\n   printf(\"%d\\\\t trees of depth %d\\\\t check: %d\\\\n\", $iterations<<1, $minDepth, $check);\\n   \\n   $minDepth += 2;\\n   $iterations >>= 2;\\n}\\nwhile($minDepth <= $maxDepth);\\n\\nprintf(\"long lived tree of depth %d\\\\t check: %d\\\\n\",\\n$maxDepth, itemCheck($longLivedTree));\\n\\n',\n",
       "  'PHP'),\n",
       " ('<?hh\\n/* The Computer Language Benchmarks Game\\n   http://benchmarksgame.alioth.debian.org/\\n\\n   contributed by Peter Baltruschat\\n   modified by Levi Cameron\\n   modified by Craig Russell\\n   PHP as HHVM/Hack by Isaac Gouy\\n*/\\n\\nclass Tree {\\n   public $i;\\n   public $l;\\n   public $r;\\n   \\n   public function __construct($item, $depth) {\\n      $this->i = $item;\\n      if($depth) {\\n         $this->l = new Tree($item * 2 - 1, --$depth);\\n         $this->r = new Tree($item * 2, $depth);\\n      }\\n   }\\n   \\n   public function check() {\\n      return $this->i\\n         + ($this->l->l === null ? $this->l->check() : $this->l->i)\\n         - ($this->r->l === null ? $this->r->check() : $this->r->i);\\n   }\\n}\\n\\n$minDepth = 4;\\n\\n$n = $argc == 2 ? $argv[1] : 1;\\n$maxDepth = $minDepth + 2 > $n ? $minDepth + 2 : $n;\\n$stretchDepth = $maxDepth + 1;\\n\\n$stretch = new Tree(0, $stretchDepth);\\nprintf(\"stretch tree of depth %d\\\\t check: %d\\\\n\",\\n   $stretchDepth, $stretch->check());\\nunset($stretch);\\n\\n$longLivedTree = new Tree(0, $maxDepth);\\n\\n$iterations = 1 << $maxDepth;\\ndo\\n{\\n   $check = 0;\\n   for($i = 1; $i <= $iterations; ++$i)\\n   {\\n      $check += (new Tree($i, $minDepth))->check()\\n         + (new Tree(-$i, $minDepth))->check();\\n   }\\n   \\n   printf(\"%d\\\\t trees of depth %d\\\\t check: %d\\\\n\",\\n      $iterations<<1, $minDepth, $check);\\n   \\n   $minDepth += 2;\\n   $iterations >>= 2;\\n}\\nwhile($minDepth <= $maxDepth);\\n\\nprintf(\"long lived tree of depth %d\\\\t check: %d\\\\n\",\\n   $maxDepth, $longLivedTree->check());\\n',\n",
       "  'PHP'),\n",
       " ('<?hh \\n/* The Computer Language Benchmarks Game\\n   http://benchmarksgame.alioth.debian.org/\\n\\n   contributed by Peter Baltruschat\\n   modified by Levi Cameron\\n   PHP as HHVM/Hack by Isaac Gouy\\n*/\\n\\nfunction bottomUpTree($item, $depth)\\n{\\n   if (!$depth) return array(null,null,$item);\\n   $item2 = $item + $item;\\n   $depth--;\\n   return array(\\n      bottomUpTree($item2-1,$depth),\\n      bottomUpTree($item2,$depth),\\n      $item);\\n}\\n\\nfunction itemCheck($treeNode) { \\n   return $treeNode[2]\\n      + ($treeNode[0][0] === null ? itemCheck($treeNode[0]) : $treeNode[0][2])\\n      - ($treeNode[1][0] === null ? itemCheck($treeNode[1]) : $treeNode[1][2]);\\n}\\n\\n$minDepth = 4;\\n\\n$n = ($argc == 2) ? $argv[1] : 1;\\n$maxDepth = max($minDepth + 2, $n);\\n$stretchDepth = $maxDepth + 1;\\n\\n$stretchTree = bottomUpTree(0, $stretchDepth);\\nprintf(\"stretch tree of depth %d\\\\t check: %d\\\\n\",\\n$stretchDepth, itemCheck($stretchTree));\\nunset($stretchTree);\\n\\n$longLivedTree = bottomUpTree(0, $maxDepth);\\n\\n$iterations = 1 << ($maxDepth);\\ndo\\n{\\n   $check = 0;\\n   for($i = 1; $i <= $iterations; ++$i)\\n   {\\n      $t = bottomUpTree($i, $minDepth);\\n      $check += itemCheck($t);\\n      unset($t);\\n      $t = bottomUpTree(-$i, $minDepth);\\n      $check += itemCheck($t);\\n      unset($t);\\n   }\\n   \\n   printf(\"%d\\\\t trees of depth %d\\\\t check: %d\\\\n\", $iterations<<1, $minDepth, $check);\\n   \\n   $minDepth += 2;\\n   $iterations >>= 2;\\n}\\nwhile($minDepth <= $maxDepth);\\n\\nprintf(\"long lived tree of depth %d\\\\t check: %d\\\\n\",\\n$maxDepth, itemCheck($longLivedTree));\\n\\n',\n",
       "  'PHP'),\n",
       " ('/* The Computer Language Benchmarks Game\\n   http://benchmarksgame.alioth.debian.org/\\n \\n   contributed by Leonhard Holz\\n   based on contribution by Jarkko Miettinen\\n*/\\n\\npublic class binarytrees {\\n\\n   private final static int minDepth = 4;\\n   private final static int threadCount = Runtime.getRuntime().availableProcessors() > 1 ? 2 : 1;\\n   private final static TreeGenerator[] threads = new TreeGenerator[threadCount + 1];\\n   \\n   public static void main(String[] args)\\n   {\\n      int n = 0;\\n      if (args.length > 0) n = Integer.parseInt(args[0]);\\n      int maxDepth = (minDepth + 2 > n) ? minDepth + 2 : n;\\n\\n      for (int i = 0; i < threadCount + 1; i++) {\\n         threads[i] = new TreeGenerator();\\n         threads[i].start();\\n      }\\n      \\n      TreeGenerator lastThread = threads[threadCount];\\n      lastThread.depth = maxDepth + 1;\\n      lastThread.run = true;\\n      try {\\n         synchronized(lastThread) {\\n            lastThread.notify();\\n            lastThread.wait();\\n         }\\n      } catch (InterruptedException e) {}\\n\\n      System.out.println(\"stretch tree of depth \" + lastThread.depth + \"\\\\t check: \" + lastThread.result);\\n\\n      lastThread.depth = maxDepth;\\n      lastThread.run = true;\\n      try {\\n         synchronized(lastThread) {\\n            lastThread.notify();\\n            lastThread.wait();\\n         }\\n      } catch (InterruptedException e) {}\\n\\n      for (int depth = minDepth; depth <= maxDepth; depth+=2 ) {\\n\\n         int check = 0;\\n         int iterations = 1 << (maxDepth - depth + minDepth);\\n         int length = iterations / threadCount;\\n\\n         for (int i = 0; i < threadCount; i++) synchronized(threads[i]) {\\n            threads[i].depth = depth;\\n            threads[i].start = i * length;\\n            threads[i].end = (i + 1) * length;\\n            threads[i].run = true;\\n            threads[i].notify();\\n         }\\n         for (int i = 0; i < threadCount; i++) try {\\n            synchronized(threads[i]) {\\n               if (threads[i].run) threads[i].wait();\\n            }\\n            check += threads[i].result;\\n         } catch (InterruptedException e) {}\\n\\n         System.out.println((iterations * 2) + \"\\\\t trees of depth \" + depth + \"\\\\t check: \" + check);\\n      }\\n\\n      System.out.println(\"long lived tree of depth \" + maxDepth + \"\\\\t check: \"+ lastThread.result);\\n\\n      for (int i = 0; i < threadCount + 1; i++) {\\n         threads[i].terminate = true;\\n         synchronized(threads[i]) {\\n            threads[i].notify();\\n         }\\n      }\\n   }\\n\\n   private static class TreeGenerator extends Thread\\n   {\\n      private boolean run = false;\\n      private boolean terminate = false;\\n\\n      private int start = 0;\\n      private int end = 0;\\n      private int result = 0;\\n      private int depth;\\n      \\n      private static TreeNode bottomUpTree(int item, int depth)\\n      {\\n         TreeNode node = new TreeNode();\\n         node.item = item;\\n         if (depth > 0) {\\n            node.left = bottomUpTree(2 * item - 1, depth - 1);\\n            node.right = bottomUpTree(2 * item, depth - 1);\\n         } else {\\n            node.left = null;\\n         }\\n         return node;\\n      }\\n\\n      private static int checkItems(TreeNode node)\\n      {\\n         if (node.left == null) {\\n            return node.item;\\n         } else {\\n            return node.item + checkItems(node.left) - checkItems(node.right);\\n         }\\n      }\\n      \\n      \\n      public synchronized void run()\\n      {\\n         while (!terminate) {\\n            if (run) {\\n               result = 0;\\n               if (start == end) {\\n                  result += checkItems(bottomUpTree(start, depth));\\n               } else for (int i = start; i < end; i++) {\\n                  result += checkItems(bottomUpTree(i, depth)) + checkItems(bottomUpTree(-i, depth));\\n               }\\n               run = false;\\n               notify();\\n            }\\n            try {\\n               wait();\\n            } catch (InterruptedException e) {}\\n         }\\n      }\\n   }\\n   \\n   private static class TreeNode\\n   {\\n      private int item;\\n      private TreeNode left, right;\\n   }\\n}\\n',\n",
       "  'Java'),\n",
       " ('/* The Computer Language Benchmarks Game\\n   http://benchmarksgame.alioth.debian.org/\\n \\n   contributed by Jarkko Miettinen\\n*/\\n\\npublic class binarytrees {\\n\\n   private final static int minDepth = 4;\\n   \\n   public static void main(String[] args){\\n      int n = 0;\\n      if (args.length > 0) n = Integer.parseInt(args[0]);\\n      \\n      int maxDepth = (minDepth + 2 > n) ? minDepth + 2 : n;\\n      int stretchDepth = maxDepth + 1;\\n      \\n      int check = (TreeNode.bottomUpTree(0,stretchDepth)).itemCheck();\\n      System.out.println(\"stretch tree of depth \"+stretchDepth+\"\\\\t check: \" + check);\\n      \\n      TreeNode longLivedTree = TreeNode.bottomUpTree(0,maxDepth);\\n      \\n      for (int depth=minDepth; depth<=maxDepth; depth+=2){\\n         int iterations = 1 << (maxDepth - depth + minDepth);\\n         check = 0;\\n         \\n         for (int i=1; i<=iterations; i++){\\n            check += (TreeNode.bottomUpTree(i,depth)).itemCheck();\\n            check += (TreeNode.bottomUpTree(-i,depth)).itemCheck();\\n         }\\n         System.out.println((iterations*2) + \"\\\\t trees of depth \" + depth + \"\\\\t check: \" + check);\\n      }   \\n      System.out.println(\"long lived tree of depth \" + maxDepth + \"\\\\t check: \"+ longLivedTree.itemCheck());\\n   }\\n   \\n   \\n   private static class TreeNode\\n   {\\n      private TreeNode left, right;\\n      private int item;\\n      \\n      TreeNode(int item){\\n         this.item = item;\\n      }\\n      \\n      private static TreeNode bottomUpTree(int item, int depth){\\n         if (depth>0){\\n            return new TreeNode(\\n                  bottomUpTree(2*item-1, depth-1)\\n                  , bottomUpTree(2*item, depth-1)\\n                  , item\\n            );\\n         }\\n         else {\\n            return new TreeNode(item);\\n         }\\n      }\\n      \\n      TreeNode(TreeNode left, TreeNode right, int item){\\n         this.left = left;\\n         this.right = right;\\n         this.item = item;\\n      }\\n      \\n      private int itemCheck(){\\n         // if necessary deallocate here\\n         if (left==null) return item;\\n         else return item + left.itemCheck() - right.itemCheck();\\n      }\\n   }\\n}\\n',\n",
       "  'Java'),\n",
       " ('/* The Computer Language Benchmarks Game\\n * http://benchmarksgame.alioth.debian.org/\\n *\\n * contributed by Jarkko Miettinen\\n * modified by Daryl Griffith\\n*/\\n\\npublic class binarytrees {\\n\\n    public static void main(String[] args) {\\n        int maxDepth;\\n        \\n        {\\n            int n = 0;\\n            \\n            if (args.length > 0) {\\n                n = Integer.parseInt(args[0]);\\n            }\\n            maxDepth = (6 > n) ? 6 : n;\\n        }\\n        {\\n            int stretchDepth = maxDepth + 1;\\n\\n            System.out.println(\"stretch tree of depth \" + stretchDepth + \\n\\t\\t\"\\\\t check: \" + checkTree(createTree(0, stretchDepth)));\\n        }\\n        trees(maxDepth);\\n    }\\n    \\n    public static void trees(int maxDepth) {\\n        TreeNode longLastingNode = createTree(0, maxDepth);\\n        int depth = 4;\\n\\n        do {\\n            int iterations = 16 << (maxDepth - depth);\\n\\n            loops(iterations, depth);\\n            depth += 2;\\n        } while (depth <= maxDepth);\\n        System.out.println(\"long lived tree of depth \" + maxDepth\\n\\t\\t + \"\\\\t check: \" + checkTree(longLastingNode));\\n    }\\n    \\n    public static void loops(int iterations, int depth) {\\n        int check = 0;\\n        int item = 0;\\n\\n        do {\\n            check += checkTree(createTree(item, depth)) +\\n\\t\\t checkTree(createTree(-item, depth));\\n            item++;\\n        } while (item < iterations);\\n        System.out.println((iterations << 1) + \"\\\\t trees of depth \" +\\n\\t\\tdepth + \"\\\\t check: \" + check);\\n    }\\n    \\n    public static TreeNode createTree(int item, int depth) {\\n        TreeNode node = new TreeNode();\\n\\n        node.item = item;\\n        if (depth > 0) {\\n            item = item + item;\\n            depth--;\\n            node.left = createTree(item - 1, depth);\\n            node.right = createTree(item, depth);\\n        }\\n        return node;\\n    }\\n    \\n    public static int checkTree(TreeNode node) {\\n        if (node.left == null) {\\n            return node.item;\\n        }\\n        return checkTree(node.left) - checkTree(node.right) + node.item;\\n    }\\n\\n    public static class TreeNode {\\n\\n        private int item;\\n        private TreeNode left, right;\\n    }\\n}\\n',\n",
       "  'Java'),\n",
       " ('/* The Computer Language Benchmarks Game\\n   http://benchmarksgame.alioth.debian.org/\\n   contributed by Isaac Gouy */\\n\\nfunction TreeNode(left,right,item){\\n   this.left = left;\\n   this.right = right;\\n   this.item = item;\\n}\\n\\nTreeNode.prototype.itemCheck = function(){\\n   if (this.left==null) return this.item;\\n   else return this.item + this.left.itemCheck() - this.right.itemCheck();\\n}\\n\\nfunction bottomUpTree(item,depth){\\n   if (depth>0){\\n      return new TreeNode(\\n          bottomUpTree(2*item-1, depth-1)\\n         ,bottomUpTree(2*item, depth-1)\\n         ,item\\n      );\\n   }\\n   else {\\n      return new TreeNode(null,null,item);\\n   }\\n}\\n\\n\\nvar minDepth = 4;\\nvar n = arguments[0];\\nvar maxDepth = Math.max(minDepth + 2, n);\\nvar stretchDepth = maxDepth + 1;\\n\\nvar check = bottomUpTree(0,stretchDepth).itemCheck();\\nprint(\"stretch tree of depth \" + stretchDepth + \"\\\\t check: \" + check);\\n\\nvar longLivedTree = bottomUpTree(0,maxDepth);\\nfor (var depth=minDepth; depth<=maxDepth; depth+=2){\\n   var iterations = 1 << (maxDepth - depth + minDepth);\\n\\n   check = 0;\\n   for (var i=1; i<=iterations; i++){\\n      check += bottomUpTree(i,depth).itemCheck();\\n      check += bottomUpTree(-i,depth).itemCheck();\\n   }\\n   print(iterations*2 + \"\\\\t trees of depth \" + depth + \"\\\\t check: \" + check);\\n}\\n\\nprint(\"long lived tree of depth \" + maxDepth + \"\\\\t check: \" \\n   + longLivedTree.itemCheck());\\n',\n",
       "  'Javascript'),\n",
       " ('# The Computer Language Shootout Benchmarks\\n# http://benchmarksgame.alioth.debian.org\\n#\\n# contributed by Jesse Millikan\\n# Modified by Wesley Moxam\\n\\n\\ndef item_check(left, item, right)\\n  return item if left.nil?\\n  item + item_check(*left) - item_check(*right)\\nend\\n\\ndef bottom_up_tree(item, depth)\\n  return [nil, item, nil] unless depth > 0\\n  item_item = 2 * item\\n  depth -= 1\\n  [bottom_up_tree(item_item - 1, depth), item, bottom_up_tree(item_item, depth)]\\nend\\n\\nmax_depth = ARGV[0].to_i\\nmin_depth = 4\\n\\nmax_depth = min_depth + 2 if min_depth + 2 > max_depth\\n\\nstretch_depth = max_depth + 1\\nstretch_tree = bottom_up_tree(0, stretch_depth)\\n\\nputs \"stretch tree of depth #{stretch_depth}\\\\t check: #{item_check(*stretch_tree)}\"\\nstretch_tree = nil\\n\\nlong_lived_tree = bottom_up_tree(0, max_depth)\\n\\nmin_depth.step(max_depth + 1, 2) do |depth|\\n  iterations = 2**(max_depth - depth + min_depth)\\n\\n  check = 0\\n\\n  for i in 1..iterations\\n    temp_tree = bottom_up_tree(i, depth)\\n    check += item_check(*temp_tree)\\n\\n    temp_tree = bottom_up_tree(-i, depth)\\n    check += item_check(*temp_tree)\\n  end\\n\\n  puts \"#{iterations * 2}\\\\t trees of depth #{depth}\\\\t check: #{check}\"\\nend\\n\\nputs \"long lived tree of depth #{max_depth}\\\\t check: #{item_check(*long_lived_tree)}\"\\n\\n',\n",
       "  'Ruby'),\n",
       " ('# The Computer Language Benchmarks Game\\n# http://benchmarksgame.alioth.debian.org\\n#\\n# contributed by Jesse Millikan\\n# Modified by Wesley Moxam and Michael Klaus\\n# Modified by  Chris Houhoulis:\\n#   trigger GC; move stretch_tree into loop; use while instead of a block\\n\\ndef item_check(left, item, right)\\n  return item if left.nil?\\n  item + item_check(*left) - item_check(*right)\\nend\\n\\ndef bottom_up_tree(item, depth)\\n  return [nil, item, nil] if depth == 0\\n  item_item = 2 * item\\n  depth -= 1\\n  [bottom_up_tree(item_item - 1, depth), item, bottom_up_tree(item_item, depth)]\\nend\\n\\nmax_depth = ARGV[0].to_i\\nmin_depth = 4\\n\\nmax_depth = [min_depth + 2, max_depth].max\\n\\n1.times do\\n  stretch_depth = max_depth + 1\\n  stretch_tree = bottom_up_tree(0, stretch_depth)\\n  puts \"stretch tree of depth #{stretch_depth}\\\\t check: \" +\\n    \"#{item_check(*stretch_tree)}\"\\nend\\nGC.start\\n\\nlong_lived_tree = bottom_up_tree(0, max_depth)\\n\\nbase_depth = max_depth + min_depth\\nmin_depth.step(max_depth + 1, 2) do |depth|\\n  iterations = 2 ** (base_depth - depth)\\n\\n  check, i = 0, 1\\n\\n  while i <= iterations\\n    temp_tree = bottom_up_tree(i, depth)\\n    check += item_check(*temp_tree)\\n\\n    temp_tree = bottom_up_tree(-i, depth)\\n    check += item_check(*temp_tree)\\n    i += 1\\n  end\\n\\n  puts \"#{iterations * 2}\\\\t trees of depth #{depth}\\\\t check: #{check}\"\\nend\\nGC.start\\n\\nputs \"long lived tree of depth #{max_depth}\\\\t check: \" +\\n  \"#{item_check(*long_lived_tree)}\"\\n',\n",
       "  'Ruby'),\n",
       " ('# The Computer Language Benchmarks Game\\n# http://benchmarksgame.alioth.debian.org\\n#\\n# contributed by Jesse Millikan\\n# Modified by Wesley Moxam\\n# Modified by Scott Leggett\\n\\ndef item_check(left, item, right)\\n    if left\\n        item + item_check(*left) - item_check(*right)\\n    else\\n        item\\n    end\\nend\\n\\ndef bottom_up_tree(item, depth)\\n    if depth > 0\\n        item_item = 2 * item\\n        depth -= 1\\n        [bottom_up_tree(item_item - 1, depth), item, bottom_up_tree(item_item, depth)]\\n    else\\n        [nil, item, nil]\\n    end\\nend\\n\\nmax_depth = ARGV[0].to_i\\nmin_depth = 4\\n\\nmax_depth = [min_depth + 2, max_depth].max\\n\\nstretch_depth = max_depth + 1\\nstretch_tree = bottom_up_tree(0, stretch_depth)\\n\\nputs \"stretch tree of depth #{stretch_depth}\\\\t check: #{item_check(*stretch_tree)}\"\\nstretch_tree = nil\\n\\nlong_lived_tree = bottom_up_tree(0, max_depth)\\n\\nmin_depth.step(max_depth + 1, 2) do |depth|\\n  iterations = 2**(max_depth - depth + min_depth)\\n\\n  check = 0\\n\\n  (1..iterations).each do |i|\\n    check += item_check(*bottom_up_tree(i, depth))\\n    check += item_check(*bottom_up_tree(-i, depth))\\n  end\\n\\n  puts \"#{iterations * 2}\\\\t trees of depth #{depth}\\\\t check: #{check}\"\\nend\\n\\nputs \"long lived tree of depth #{max_depth}\\\\t check: #{item_check(*long_lived_tree)}\"\\n',\n",
       "  'Ruby'),\n",
       " ('# The Computer Language Benchmarks Game\\n# http://benchmarksgame.alioth.debian.org\\n#\\n# contributed by Jesse Millikan\\n# Modified by Wesley Moxam\\n# Modified && Parallelised by Scott Leggett\\n\\nmodule MiniParallel\\n    class Worker\\n        def initialize(read, write)\\n            @read, @write = read, write\\n        end\\n\\n        def close_pipes\\n            @read.close\\n            @write.close\\n        end\\n\\n        def work(index)\\n            Marshal.dump(index, @write)\\n            Marshal.load(@read)\\n        end\\n    end\\n\\n    def self.map(array, &block)\\n        work_in_processes(\\n            array,\\n            [array.size, core_count].min,\\n            &block\\n        )\\n    end\\n\\n    def self.core_count\\n        @@core_count ||= IO.read(\"/proc/cpuinfo\").scan(/^processor/).size\\n    end\\n\\n    private\\n\\n    def self.work_in_processes(array, count, &block)\\n        index = -1\\n        results, threads = [], []\\n\\n        workers = create_workers(array, count, &block)\\n\\n        workers.each do |worker|\\n            threads << Thread.new do\\n              loop do\\n                Thread.exclusive{ index += 1 }\\n                break if index >= array.size\\n                results[index] = worker.work(index)\\n              end\\n              worker.close_pipes\\n            end\\n        end\\n\\n        threads.each(&:join)\\n        Process.waitall\\n\\n        results\\n    end\\n\\n    def self.create_workers(array, count, &block)\\n        workers = []\\n        count.times do\\n            workers << create_worker(array, workers, &block)\\n        end\\n        workers\\n    end\\n\\n    def self.create_worker(array, started_workers, &block)\\n        child_read, parent_write = IO.pipe\\n        parent_read, child_write = IO.pipe\\n\\n        Process.fork do\\n            started_workers.each(&:close_pipes)\\n\\n            parent_write.close\\n            parent_read.close\\n\\n            process_incoming_jobs(child_read, child_write, array, &block)\\n\\n            child_read.close\\n            child_write.close\\n        end\\n\\n        child_read.close\\n        child_write.close\\n\\n        Worker.new(parent_read, parent_write)\\n    end\\n\\n    def self.process_incoming_jobs(read, write, array, &block)\\n        until read.eof?\\n            index = Marshal.load(read)\\n            Marshal.dump(block.call(array[index]), write)\\n        end\\n    end\\nend\\n\\ndef item_check(left, item, right)\\n    if left\\n        item + item_check(*left) - item_check(*right)\\n    else\\n        item\\n    end\\nend\\n\\ndef bottom_up_tree(item, depth)\\n    if depth > 0\\n        item_item = 2 * item\\n        depth -= 1\\n        [bottom_up_tree(item_item - 1, depth), item, bottom_up_tree(item_item, depth)]\\n    else\\n        [nil, item, nil]\\n    end\\nend\\n\\nmax_depth = ARGV[0].to_i\\nmin_depth = 4\\n\\nmax_depth = [min_depth + 2, max_depth].max\\n\\nstretch_depth = max_depth + 1\\nstretch_tree = bottom_up_tree(0, stretch_depth)\\n\\nputs \"stretch tree of depth #{stretch_depth}\\\\t check: #{item_check(*stretch_tree)}\"\\nstretch_tree = nil\\n\\nlong_lived_tree = bottom_up_tree(0, max_depth)\\n\\nif MiniParallel.core_count > 1\\n    if RUBY_PLATFORM == \\'java\\'\\n        output = []\\n        threads = []\\n        min_depth.step(max_depth + 1, 2).to_a.each.with_index do |depth,j|\\n            threads << Thread.new do\\n                iterations = 2**(max_depth - depth + min_depth)\\n\\n                check = 0\\n\\n                (1..iterations).each do |i|\\n                    check += item_check(*bottom_up_tree(i, depth)) +\\n                        item_check(*bottom_up_tree(-i, depth))\\n                end\\n\\n                output[j] = \"#{iterations * 2}\\\\t trees of depth #{depth}\\\\t check: #{check}\"\\n            end\\n        end\\n        threads.all?(&:join)\\n        output.each{|l| puts l}\\n    else\\n        MiniParallel.map(min_depth.step(max_depth + 1, 2).to_a) do |depth|\\n            iterations = 2**(max_depth - depth + min_depth)\\n\\n            check = 0\\n\\n            (1..iterations).each do |i|\\n                check += item_check(*bottom_up_tree(i, depth)) +\\n                    item_check(*bottom_up_tree(-i, depth))\\n            end\\n\\n            \"#{iterations * 2}\\\\t trees of depth #{depth}\\\\t check: #{check}\"\\n        end.each{|l| puts l}\\n    end\\nelse\\n    min_depth.step(max_depth + 1, 2).each do |depth|\\n        iterations = 2**(max_depth - depth + min_depth)\\n\\n        check = 0\\n\\n        (1..iterations).each do |i|\\n            check += item_check(*bottom_up_tree(i, depth)) +\\n                item_check(*bottom_up_tree(-i, depth))\\n        end\\n\\n        puts \"#{iterations * 2}\\\\t trees of depth #{depth}\\\\t check: #{check}\"\\n    end\\nend\\n\\nputs \"long lived tree of depth #{max_depth}\\\\t check: #{item_check(*long_lived_tree)}\"\\n',\n",
       "  'Ruby'),\n",
       " ('(* The Computer Language Benchmarks Game\\n * http://benchmarksgame.alioth.debian.org/\\n *\\n * Contributed by Troestler Christophe\\n * Modified by Fabrice Le Fessant for\\n *  - tree type more compact\\n *  - better GC parameters\\n *  - loops replaced by recursive functions\\n *)\\n\\ntype \\'a tree = Leaf of \\'a | Node of \\'a tree * \\'a * \\'a tree\\n\\nlet rec make d i =\\n  if d = 0 then Leaf i\\n  else\\n    let l = make (d-1) (2*i - 1) in\\n    let r = make (d-1) (2*i) in\\n      Node(l, i, r)\\n\\nlet rec check = function Leaf i -> i | Node(l, i, r) ->\\n  let i = i + check l in\\n    i - check r\\n\\nlet min_depth = 4\\nlet n = if Array.length Sys.argv <> 2 then 0 else int_of_string Sys.argv.(1)\\nlet max_depth = max (min_depth + 2) n\\nlet stretch_depth = max_depth + 1\\n\\nlet _ =\\n  let gc = Gc.get () in\\n    gc.Gc.max_overhead <- 1000000;\\n    gc.Gc.space_overhead <- 500;\\n    gc.Gc.major_heap_increment <- 10_000_000;\\n    gc.Gc.minor_heap_size <- 10_000_000;\\n    Gc.set gc\\n\\nlet () =\\n  let c = check (make stretch_depth 0) in\\n  Printf.printf \"stretch tree of depth %i\\\\t check: %i\\\\n\" stretch_depth c\\n\\nlet long_lived_tree = make max_depth 0\\n\\n\\nlet rec iter i niter c d =\\n  if i <= niter then\\n    let c = c + check(make d i) in\\n    let c = c + check(make d (-i)) in\\n    iter (i+1) niter c d\\n  else\\n    Printf.printf \"%i\\\\t trees of depth %i\\\\t check: %i\\\\n\" (2 * niter) d c\\n\\n\\nlet rec loop_depths d =\\n  let niter = 1 lsl (max_depth - d + min_depth) in\\n    iter 1 niter 0 d;\\n    if d < max_depth then\\n      loop_depths (d+2)\\n\\nlet () =\\n  flush stdout;\\n  loop_depths min_depth;\\n  Printf.printf \"long lived tree of depth %i\\\\t check: %i\\\\n\"\\n    max_depth (check long_lived_tree)\\n\\n',\n",
       "  'OCaml'),\n",
       " ('(* The Computer Language Benchmarks Game\\n * http://benchmarksgame.alioth.debian.org/\\n *\\n * Contributed by Troestler Christophe\\n * Rough parallelization by Mauricio Fernandez\\n *)\\n\\ntype \\'a tree = Empty | Node of \\'a tree * \\'a * \\'a tree\\n\\nlet rec make i d =\\n(* if d = 0 then Empty *)\\n  if d = 0 then Node(Empty, i, Empty)\\n  else let i2 = 2 * i and d = d - 1 in Node(make (i2 - 1) d, i, make i2 d)\\n\\nlet rec check = function Empty -> 0 | Node(l, i, r) -> i + check l - check r\\n\\nlet min_depth = 4\\nlet max_depth = (let n = try int_of_string(Array.get Sys.argv 1) with _ -> 10 in\\n                 max (min_depth + 2) n)\\nlet stretch_depth = max_depth + 1\\n\\nlet () =\\n  (* Gc.set { (Gc.get()) with Gc.minor_heap_size = 1024 * 1024; max_overhead = -1; }; *)\\n  let c = check (make 0 stretch_depth) in\\n  Printf.printf \"stretch tree of depth %i\\\\t check: %i\\\\n\" stretch_depth c\\n\\nlet long_lived_tree = make 0 max_depth\\n\\nlet rec loop_depths d =\\n  let worker d =\\n    let niter = 1 lsl (max_depth - d + min_depth) and c = ref 0 in\\n    for i = 1 to niter do c := !c + check(make i d) + check(make (-i) d) done;\\n    (niter, !c) in\\n  let workers = Array.init ((max_depth - d) / 2 + 1)\\n                  (fun i -> let d = d + i * 2 in (d, invoke worker d))\\n  in Array.iter\\n       (fun (d, w) ->\\n          let niter, c = w () in\\n          Printf.printf \"%i\\\\t trees of depth %i\\\\t check: %i\\\\n\" (2 * niter) d c)\\n       workers\\n\\n(* function originally due to Jon D. Harrop *)\\nand invoke (f : \\'a -> \\'b) x : unit -> \\'b =\\n  let input, output = Unix.pipe() in\\n  match Unix.fork() with\\n  | -1 -> Unix.close input; Unix.close output; (let v = f x in fun () -> v)\\n  | 0 ->\\n      Unix.close input;\\n      let output = Unix.out_channel_of_descr output in\\n      Marshal.to_channel output (try `Res(f x) with e -> `Exn e) [];\\n      close_out output;\\n      exit 0\\n  | pid ->\\n      Unix.close output;\\n      let input = Unix.in_channel_of_descr input in\\n      fun () ->\\n        let v = Marshal.from_channel input in\\n        ignore (Unix.waitpid [] pid);\\n        close_in input;\\n        match v with\\n        | `Res x -> x\\n        | `Exn e -> raise e\\n\\nlet () =\\n  flush stdout;\\n  loop_depths min_depth;\\n  Printf.printf \"long lived tree of depth %i\\\\t check: %i\\\\n\"\\n    max_depth (check long_lived_tree)\\n\\n',\n",
       "  'OCaml'),\n",
       " ('(* The Computer Language Benchmarks Game\\n * http://benchmarksgame.alioth.debian.org/\\n *\\n * Contributed by Troestler Christophe\\n * Modified by Fabrice Le Fessant\\n *)\\n\\ntype \\'a tree = Empty | Node of \\'a tree * \\'a * \\'a tree\\n\\nlet rec make i d =\\n(* if d = 0 then Empty *)\\n  if d = 0 then Node(Empty, i, Empty)\\n  else let i2 = 2 * i and d = d - 1 in Node(make (i2 - 1) d, i, make i2 d)\\n\\nlet rec check = function Empty -> 0 | Node(l, i, r) -> i + check l - check r\\n\\nlet min_depth = 4\\nlet max_depth = (let n = try int_of_string(Array.get Sys.argv 1) with _ -> 10 in\\n                 max (min_depth + 2) n)\\nlet stretch_depth = max_depth + 1\\n\\nlet () =\\n  (* Gc.set { (Gc.get()) with Gc.minor_heap_size = 1024 * 1024; max_overhead = -1; }; *)\\n  let c = check (make 0 stretch_depth) in\\n  Printf.printf \"stretch tree of depth %i\\\\t check: %i\\\\n\" stretch_depth c\\n\\nlet long_lived_tree = make 0 max_depth\\n\\nlet rec loop_depths d =\\n  for i = 0 to  ((max_depth - d) / 2 + 1) - 1 do\\n    let d = d + i * 2 in\\n    let niter = 1 lsl (max_depth - d + min_depth) in\\n    let c = ref 0 in\\n      for i = 1 to niter do c := !c + check(make i d) + check(make (-i) d) done;\\n      Printf.printf \"%i\\\\t trees of depth %i\\\\t check: %i\\\\n\" (2 * niter) d !c;\\n  done\\n\\nlet () =\\n  flush stdout;\\n  loop_depths min_depth;\\n  Printf.printf \"long lived tree of depth %i\\\\t check: %i\\\\n\"\\n    max_depth (check long_lived_tree)\\n\\n',\n",
       "  'OCaml'),\n",
       " ('# The Computer Language Benchmarks Game\\n# http://benchmarksgame.alioth.debian.org/\\n# \\n# contributed by Emanuele Zeppieri\\n\\nsub bottomup_tree {\\n    my ($value, $depth) = @_;\\n    return $value unless $depth;\\n    my $value2 = $value * 2; $depth--;\\n    [ bottomup_tree($value2-1, $depth), bottomup_tree($value2, $depth), $value ]\\n}\\n\\nsub check_tree {\\n    my ($left, $right, $value) = @{ $_[0] };\\n    $value + (\\n        ref $left ? check_tree($left) - check_tree($right) : $left - $right\\n    )\\n}\\n\\nmy $max_depth = shift @ARGV;\\nmy $min_depth = 4;\\n\\n$max_depth = $min_depth + 2 if $min_depth + 2 > $max_depth;\\n\\nmy $stretch_depth = $max_depth + 1;\\nmy $stretch_tree = bottomup_tree(0, $stretch_depth);\\nprint \"stretch tree of depth $stretch_depth\\\\t check: \",\\n    check_tree($stretch_tree), \"\\\\n\";\\nundef $stretch_tree;\\n\\nmy $longlived_tree = bottomup_tree(0, $max_depth);\\n\\nfor ( my $depth = $min_depth; $depth <= $max_depth; $depth += 2 ) {\\n    my $iterations = 2 << $max_depth - $depth + $min_depth - 1;\\n    my $check = 0;\\n    \\n    foreach (1..$iterations) {\\n        $check += check_tree( bottomup_tree(0, $depth) );\\n        $check += check_tree( bottomup_tree(0, $depth) )\\n    }\\n    \\n    print 2*$iterations, \"\\\\t trees of depth $depth\\\\t check: \", $check, \"\\\\n\"\\n}\\n\\nprint \"long lived tree of depth $max_depth\\\\t check: \",\\n    check_tree($longlived_tree), \"\\\\n\"\\n',\n",
       "  'Perl'),\n",
       " ('# The Computer Language Benchmarks Game\\n# http://benchmarksgame.alioth.debian.org/\\n# \\n# contributed by Emanuele Zeppieri\\n# modified by Christian Walde (threads)\\n\\nuse threads;\\n\\nsub bottomup_tree {\\n    my ( $value, $depth ) = @_;\\n    return $value unless $depth;\\n    my $value2 = $value * 2;\\n    $depth--;\\n    return [ bottomup_tree( $value2 - 1, $depth ), bottomup_tree( $value2, $depth ), $value ];\\n}\\n\\nsub check_tree {\\n    my ( $left, $right, $value ) = @{ $_[0] };\\n    return $value + ( ref $left ? check_tree( $left ) - check_tree( $right ) : $left - $right );\\n}\\n\\nsub depth_iteration {\\n    my ( $depth, $max_depth, $min_depth ) = @_;\\n\\n    my $iterations = 2 << $max_depth - $depth + $min_depth - 1;\\n    my $check      = 0;\\n\\n    foreach ( 1 .. $iterations ) {\\n        $check += check_tree( bottomup_tree( $_,  $depth ) );\\n        $check += check_tree( bottomup_tree( -$_, $depth ) );\\n    }\\n\\n    return ( $depth => [ $iterations, $depth, $check ] );\\n}\\n\\nmy $max_depth = shift @ARGV;\\nmy $min_depth = 4;\\n\\n$max_depth = $min_depth + 2 if $min_depth + 2 > $max_depth;\\n\\nmy $stretch_depth = $max_depth + 1;\\nmy $stretch_tree = bottomup_tree( 0, $stretch_depth );\\nprint \"stretch tree of depth $stretch_depth\\\\t check: \", check_tree( $stretch_tree ), \"\\\\n\";\\nundef $stretch_tree;\\n\\nmy $longlived_tree = bottomup_tree( 0, $max_depth );\\n\\nmy @results;\\nfor ( my $depth = $min_depth ; $depth <= $max_depth ; $depth += 2 ) {\\n    while ( 1 ) {\\n        last if threads->list < 4;\\n        push @results, $_->join for threads->list( threads::joinable );\\n    }\\n\\n    threads->create(\\n        { \\'context\\' => \\'list\\', \\'stack_size\\' => 64 },    #\\n        sub { depth_iteration( $depth, $max_depth, $min_depth ) }\\n    );\\n}\\n\\nwhile ( threads->list ) {\\n    push @results, $_->join for threads->list( threads::joinable );\\n}\\n\\nmy %results = @results;\\nfor my $key ( sort { $a <=> $b } keys %results ) {\\n    my ( $iterations, $depth, $check ) = @{ $results{$key} };\\n    print 2 * $iterations, \"\\\\t trees of depth $depth\\\\t check: \", $check, \"\\\\n\";\\n}\\n\\nprint \"long lived tree of depth $max_depth\\\\t check: \", check_tree( $longlived_tree ), \"\\\\n\";\\n',\n",
       "  'Perl'),\n",
       " ('<?php \\n/* The Computer Language Benchmarks Game\\n   http://benchmarksgame.alioth.debian.org/\\n\\n   contributed by Peter Baltruschat\\n   modified by Levi Cameron\\n*/\\n// see \\n\\nclass Node {\\n\\tpublic $item;\\n\\tpublic $l;\\n\\tpublic $r;\\n}\\n\\nfunction bottomUpTree($item, $depth)\\n{\\n   $node = new Node();\\n   $node->item = $item;\\n   if (!$depth) return $node;\\n   $item2 = $item + $item;\\n   $depth--;\\n   $node->l = bottomUpTree($item2-1,$depth);\\n   $node->r = bottomUpTree($item2,$depth);\\n   return $node;\\n}\\n\\nfunction itemCheck($treeNode) { \\n   return $treeNode->item\\n      + ($treeNode->l->l === null ? itemCheck($treeNode->l) : $treeNode->l->item)\\n      - ($treeNode->r->l === null ? itemCheck($treeNode->r) : $treeNode->r->item);\\n}\\n\\n$minDepth = 4;\\n\\n$n = ($argc == 2) ? $argv[1] : 1;\\n$maxDepth = max($minDepth + 2, $n);\\n$stretchDepth = $maxDepth + 1;\\n\\n$stretchTree = bottomUpTree(0, $stretchDepth);\\nprintf(\"stretch tree of depth %d\\\\t check: %d\\\\n\", $stretchDepth, itemCheck($stretchTree));\\nunset($stretchTree);\\n\\n$longLivedTree = bottomUpTree(0, $maxDepth);\\n\\n$iterations = 1 << ($maxDepth);\\ndo\\n{\\n   $check = 0;\\n   for($i = 1; $i <= $iterations; ++$i)\\n   {\\n      $t = bottomUpTree($i, $minDepth);\\n      $check += itemCheck($t);\\n      unset($t);\\n      $t = bottomUpTree(-$i, $minDepth);\\n      $check += itemCheck($t);\\n      unset($t);\\n   }\\n   \\n   printf(\"%d\\\\t trees of depth %d\\\\t check: %d\\\\n\", $iterations<<1, $minDepth, $check);\\n   \\n   $minDepth += 2;\\n   $iterations >>= 2;\\n}\\nwhile($minDepth <= $maxDepth);\\n\\nprintf(\"long lived tree of depth %d\\\\t check: %d\\\\n\",\\n$maxDepth, itemCheck($longLivedTree));\\n\\n',\n",
       "  'PHP'),\n",
       " ('<?php \\n/* The Computer Language Benchmarks Game\\n   http://benchmarksgame.alioth.debian.org/\\n\\n   contributed by Peter Baltruschat\\n   modified by Levi Cameron\\n   modified by Craig Russell\\n*/\\n\\nclass Tree {\\n   public $i;\\n   public $l;\\n   public $r;\\n   \\n   public function __construct($item, $depth) {\\n      $this->i = $item;\\n      if($depth) {\\n         $this->l = new Tree($item * 2 - 1, --$depth);\\n         $this->r = new Tree($item * 2, $depth);\\n      }\\n   }\\n   \\n   public function check() {\\n      return $this->i\\n         + ($this->l->l === null ? $this->l->check() : $this->l->i)\\n         - ($this->r->l === null ? $this->r->check() : $this->r->i);\\n   }\\n}\\n\\n$minDepth = 4;\\n\\n$n = $argc == 2 ? $argv[1] : 1;\\n$maxDepth = $minDepth + 2 > $n ? $minDepth + 2 : $n;\\n$stretchDepth = $maxDepth + 1;\\n\\n$stretch = new Tree(0, $stretchDepth);\\nprintf(\"stretch tree of depth %d\\\\t check: %d\\\\n\",\\n   $stretchDepth, $stretch->check());\\nunset($stretch);\\n\\n$longLivedTree = new Tree(0, $maxDepth);\\n\\n$iterations = 1 << $maxDepth;\\ndo\\n{\\n   $check = 0;\\n   for($i = 1; $i <= $iterations; ++$i)\\n   {\\n      $check += (new Tree($i, $minDepth))->check()\\n         + (new Tree(-$i, $minDepth))->check();\\n   }\\n   \\n   printf(\"%d\\\\t trees of depth %d\\\\t check: %d\\\\n\",\\n      $iterations<<1, $minDepth, $check);\\n   \\n   $minDepth += 2;\\n   $iterations >>= 2;\\n}\\nwhile($minDepth <= $maxDepth);\\n\\nprintf(\"long lived tree of depth %d\\\\t check: %d\\\\n\",\\n   $maxDepth, $longLivedTree->check());\\n',\n",
       "  'PHP'),\n",
       " ('<?php \\n/* The Computer Language Benchmarks Game\\n   http://benchmarksgame.alioth.debian.org/\\n\\n   contributed by Peter Baltruschat\\n   modified by Levi Cameron\\n*/\\n\\nfunction bottomUpTree($item, $depth)\\n{\\n   if (!$depth) return array(null,null,$item);\\n   $item2 = $item + $item;\\n   $depth--;\\n   return array(\\n      bottomUpTree($item2-1,$depth),\\n      bottomUpTree($item2,$depth),\\n      $item);\\n}\\n\\nfunction itemCheck($treeNode) { \\n   return $treeNode[2]\\n      + ($treeNode[0][0] === null ? itemCheck($treeNode[0]) : $treeNode[0][2])\\n      - ($treeNode[1][0] === null ? itemCheck($treeNode[1]) : $treeNode[1][2]);\\n}\\n\\n$minDepth = 4;\\n\\n$n = ($argc == 2) ? $argv[1] : 1;\\n$maxDepth = max($minDepth + 2, $n);\\n$stretchDepth = $maxDepth + 1;\\n\\n$stretchTree = bottomUpTree(0, $stretchDepth);\\nprintf(\"stretch tree of depth %d\\\\t check: %d\\\\n\",\\n$stretchDepth, itemCheck($stretchTree));\\nunset($stretchTree);\\n\\n$longLivedTree = bottomUpTree(0, $maxDepth);\\n\\n$iterations = 1 << ($maxDepth);\\ndo\\n{\\n   $check = 0;\\n   for($i = 1; $i <= $iterations; ++$i)\\n   {\\n      $t = bottomUpTree($i, $minDepth);\\n      $check += itemCheck($t);\\n      unset($t);\\n      $t = bottomUpTree(-$i, $minDepth);\\n      $check += itemCheck($t);\\n      unset($t);\\n   }\\n   \\n   printf(\"%d\\\\t trees of depth %d\\\\t check: %d\\\\n\", $iterations<<1, $minDepth, $check);\\n   \\n   $minDepth += 2;\\n   $iterations >>= 2;\\n}\\nwhile($minDepth <= $maxDepth);\\n\\nprintf(\"long lived tree of depth %d\\\\t check: %d\\\\n\",\\n$maxDepth, itemCheck($longLivedTree));\\n?>\\n',\n",
       "  'PHP'),\n",
       " ('<?php \\n/* The Computer Language Benchmarks Game\\n   http://benchmarksgame.alioth.debian.org/\\n   binarytree by Ludovic Urbain\\n*/\\n\\nfunction tree(&$n,&$i,&$depth){\\n   $n[2]=$i;\\n   if(!$depth){\\n      return $n;\\n   }\\n   $i2=$i+$i;\\n   $depth--;\\n   //tree($n[1],$i2,$depth); \\n      $n[1][2]=$i2;\\n      if($depth){\\n         $i3=$i2+$i2;\\n         $depth--;\\n         //tree($n[1][1],$i3,$depth);\\n            $n[1][1][2]=$i3;\\n            if($depth){\\n               $i4=$i3+$i3;\\n               $depth--;\\n               tree($n[1][1][1],$i4,$depth);\\n               $i4--;\\n               tree($n[1][1][0],$i4,$depth);\\n               $depth++;\\n            }\\n         $i3--;\\n         //tree($n[1][0],$i3,$depth);\\n            $n[1][0][2]=$i3;\\n            if($depth){\\n               $i4=$i3+$i3;\\n               $depth--;\\n               tree($n[1][0][1],$i4,$depth);\\n               $i4--;\\n               tree($n[1][0][0],$i4,$depth);\\n               $depth++;\\n            }\\n         $depth++;\\n      }\\n   $i2--;\\n   //tree($n[0],$i2,$depth);\\n      $n[0][2]=$i2;\\n      if($depth){\\n         $i3=$i2+$i2;\\n         $depth--;\\n         //tree($n[0][1],$i3,$depth);\\n            $n[0][1][2]=$i3;\\n            if($depth){\\n               $i4=$i3+$i3;\\n               $depth--;\\n               tree($n[0][1][1],$i4,$depth);\\n               $i4--;\\n               tree($n[0][1][0],$i4,$depth);\\n               $depth++;\\n            }\\n         $i3--;\\n         //tree($n[0][0],$i3,$depth);\\n            $n[0][0][2]=$i3;\\n            if($depth){\\n               $i4=$i3+$i3;\\n               $depth--;\\n               tree($n[0][0][1],$i4,$depth);\\n               $i4--;\\n               tree($n[0][0][0],$i4,$depth);\\n               $depth++;\\n            }\\n         $depth++;\\n      }\\n   $depth++;\\n}\\n\\nfunction check(&$n) {//checks look like free from a performance standpoint.\\n   $r=$n[2];\\n   if($n[0][0] === null){\\n      $r+=check($n[0]);\\n   }else{\\n      $r+=$n[0][2];\\n   }\\n   if($n[1][0] === null){\\n      $r-=check($n[1]);\\n   }else{\\n      $r-=$n[1][2];\\n   }\\n   return $r;\\n}\\n\\n$threads=2;\\n// Currently limited to two threads, designed for 2n-threads, \\n// can be updated to 4 threads when PHP releases a better array / memory limit\\n// on the benchmarks game goes up to at least 4.8G\\n\\n\\n$min_depth = 4;\\nif($argc == 2){\\n   $max_depth=$argv[1];\\n}else{\\n   $max_depth=$min_depth+2;\\n}\\n$stretch_depth=$max_depth+1;\\n$stree=array();\\n$i=0;\\ntree($stree,$i,$stretch_depth);\\nprintf(\"stretch tree of depth %d\\\\t check: %d\\\\n\",$stretch_depth, check($stree));\\nunset($stree);\\n$bigtree=array();\\ntree($bigtree,$i,$max_depth);\\n$runs = 1 << ($max_depth);\\n\\n\\n$tok = ftok(__FILE__, chr(time() & 255));\\n$queue = msg_get_queue($tok);\\n\\n$parent = TRUE;\\nfor ($i = 0; $i < $threads-1; ++$i) {\\n   $pid = pcntl_fork();\\n   if ($pid === -1) {\\n      die(\\'could not fork\\');\\n   } else if ($pid) {\\n      continue;\\n   }\\n   $parent = FALSE;\\n   break;\\n}\\nif(!$parent){\\n   unset($bigtree);\\n}\\n$tmptree=array();\\n$return=array();\\nwhile($min_depth <= $max_depth){\\n   $check = 0;\\n   for($i=0;$i<$runs>>(2/$threads);$i++){\\n      tree($tmptree,$i,$min_depth);\\n      $check+=check($tmptree);\\n      $j=-$i;\\n      tree($tmptree,$j,$min_depth);\\n      $check+=check($tmptree);\\n   }\\n   $return[$min_depth]=array($runs,$check);\\n   $min_depth+=2;\\n   $runs>>=2;\\n}\\nunset($tmptree);\\nif (!msg_send($queue, 2, $return, TRUE, FALSE, $errno)) {\\n   var_dump(\"$errno\");\\n   var_dump(msg_stat_queue($queue));\\n}\\n\\nif (!$parent) {\\n   exit(0);\\n}\\n\\n$result2=array();\\nfor($i=0;$i<$threads;$i++){\\n   msg_receive($queue, 2, $msgtype, 2048, $result, TRUE);\\n   foreach($result as $depth => $res){\\n      $result2[$depth][0]+=$res[0];\\n      $result2[$depth][1]-=$res[1];\\n   }\\n   pcntl_wait($s);\\n}\\nforeach($result2 as $depth => $res){\\n   printf(\"%d\\\\t trees of depth %d\\\\t check: %d\\\\n\", $result2[$depth][0], $depth, -$result2[$depth][1]);\\n}\\nprintf(\"long lived tree of depth %d\\\\t check: %d\\\\n\",\\n$max_depth, check($bigtree));\\n',\n",
       "  'PHP'),\n",
       " (\"# The Computer Language Benchmarks Game\\n# http://benchmarksgame.alioth.debian.org/\\n#\\n# contributed by Antoine Pitrou\\n# modified by Dominique Wahli and Daniel Nanz\\n\\nfrom __future__ import print_function\\n\\nimport sys\\nimport multiprocessing as mp\\n\\n\\ndef make_tree(i, d):\\n \\n    if d > 0:\\n        i2 = i + i\\n        d -= 1\\n        return (i, make_tree(i2 - 1, d), make_tree(i2, d))\\n    return (i, None, None)\\n\\n\\ndef check_tree(node):\\n\\n    (i, l, r) = node\\n    if l is None:\\n        return i\\n    else:\\n        return i + check_tree(l) - check_tree(r)\\n\\n\\ndef make_check(itde, make=make_tree, check=check_tree):\\n\\n    i, d = itde\\n    return check(make(i, d))\\n\\n\\ndef get_argchunks(i, d, chunksize=5000):\\n    \\n    assert chunksize % 2 == 0\\n    chunk = []\\n    for k in range(1, i + 1):\\n        chunk.extend([(k, d), (-k, d)])\\n        if len(chunk) == chunksize:\\n            yield chunk\\n            chunk = []\\n    if len(chunk) > 0:\\n        yield chunk\\n\\n\\ndef main(n, min_depth=4):\\n\\n    max_depth = max(min_depth + 2, n)\\n    stretch_depth = max_depth + 1\\n    if mp.cpu_count() > 1:\\n        pool = mp.Pool()\\n        chunkmap = pool.map\\n    else:\\n        chunkmap = map\\n    \\n    print('stretch tree of depth {0}\\\\t check: {1}'.format( \\n          stretch_depth, make_check((0, stretch_depth))))\\n\\n    long_lived_tree = make_tree(0, max_depth)\\n    \\n    mmd = max_depth + min_depth\\n    for d in range(min_depth, stretch_depth, 2):\\n        i = 2 ** (mmd - d)\\n        cs = 0\\n        for argchunk in get_argchunks(i,d):\\n            cs += sum(chunkmap(make_check, argchunk))\\n        print('{0}\\\\t trees of depth {1}\\\\t check: {2}'.format(i * 2, d, cs))\\n    \\n    print('long lived tree of depth {0}\\\\t check: {1}'.format( \\n          max_depth, check_tree(long_lived_tree)))\\n\\n\\nif __name__ == '__main__':\\n    main(int(sys.argv[1]))\\n\",\n",
       "  'Python'),\n",
       " ('#lang racket/base\\n\\n;;; The Computer Language Benchmarks Game\\n;;; http://benchmarksgame.alioth.debian.org/\\n\\n;;; Derived from the Chicken variant by Sven Hartrumpf\\n;;; contributed by Matthew Flatt\\n\\n(require racket/cmdline)\\n\\n(struct node (left val right))\\n\\n;; Instead of (define-struct leaf (val)):\\n(define (leaf val) (node #f val #f))\\n(define (leaf? l) (not (node-left l)))\\n(define (leaf-val l) (node-val l))\\n\\n(define (make item d)\\n  (if (= d 0)\\n      (leaf item)\\n      (let ((item2 (* item 2))\\n            (d2 (- d 1)))\\n        (node (make (- item2 1) d2) \\n              item \\n              (make item2 d2)))))\\n\\n(define (check t)\\n  (if (leaf? t)\\n      (leaf-val t)\\n      (+ (node-val t) (- (check (node-left t)) \\n                         (check (node-right t))))))\\n\\n(define (main n)\\n  (let* ((min-depth 4)\\n         (max-depth (max (+ min-depth 2) n)))\\n    (let ((stretch-depth (+ max-depth 1)))\\n      (printf \"stretch tree of depth ~a\\\\t check: ~a\\\\n\"\\n              stretch-depth\\n              (check (make 0 stretch-depth))))\\n    (let ((long-lived-tree (make 0 max-depth)))\\n      (for ((d (in-range 4 (add1 max-depth) 2)))\\n        (let ((iterations (arithmetic-shift 1 (+ (- max-depth d) min-depth))))\\n          (printf \"~a\\\\t trees of depth ~a\\\\t check: ~a\\\\n\"\\n                  (* 2 iterations)\\n                  d\\n                  (for/fold ([c 0])\\n                            ([i (in-range iterations)])\\n                    (+ c \\n                       (check (make i d)) \\n                       (check (make (- i) d)))))))\\n      (printf \"long lived tree of depth ~a\\\\t check: ~a\\\\n\"\\n              max-depth\\n              (check long-lived-tree)))))\\n\\n(command-line #:args (n) \\n              (main (string->number n)))\\n',\n",
       "  'Scheme'),\n",
       " ('#lang racket/base\\n\\n;;; The Computer Language Benchmarks Game\\n;;; http://benchmarksgame.alioth.debian.org/\\n;;; Derived from the Chicken variant by Sven Hartrumpf\\n;;; contributed by Eli Barzilay\\n\\n(require racket/cmdline racket/require (for-syntax racket/base)\\n         (filtered-in (lambda (name) (regexp-replace #rx\"unsafe-\" name \"\"))\\n                      racket/unsafe/ops))\\n\\n(struct *leaf (val))\\n(struct *node *leaf (left right))\\n\\n(define-syntax leaf  (make-rename-transformer #\\'*leaf))\\n(define-syntax leaf? (make-rename-transformer #\\'*leaf?))\\n(define-syntax node  (make-rename-transformer #\\'*node))\\n(define-syntax node? (make-rename-transformer #\\'*node?))\\n(define-syntax-rule (leaf-val l)   (struct-ref l 0))\\n(define-syntax-rule (node-left n)  (struct-ref n 1))\\n(define-syntax-rule (node-right n) (struct-ref n 2))\\n\\n(define (make item d)\\n  (if (fx= d 0)\\n    (leaf item)\\n    (let ([item2 (fx* item 2)] [d2 (fx- d 1)])\\n      (node item (make (fx- item2 1) d2) (make item2 d2)))))\\n\\n(define (check t)\\n  (let loop ([t t] [acc 0])\\n    (let ([acc (fx+ (leaf-val t) acc)])\\n      (if (node? t)\\n        (loop (node-left t)\\n              (fx- acc (loop (node-right t) 0)))\\n        acc))))\\n\\n(define min-depth 4)\\n\\n(define (main n)\\n  (let ([max-depth (max (+ min-depth 2) n)])\\n    (let ([stretch-depth (+ max-depth 1)])\\n      (printf \"stretch tree of depth ~a\\\\t check: ~a\\\\n\"\\n              stretch-depth\\n              (check (make 0 stretch-depth))))\\n    (let ([long-lived-tree (make 0 max-depth)])\\n      (for ([d (in-range 4 (+ max-depth 1) 2)])\\n        (let ([iterations (expt 2 (+ (- max-depth d) min-depth))])\\n          (printf \"~a\\\\t trees of depth ~a\\\\t check: ~a\\\\n\"\\n                  (* 2 iterations)\\n                  d\\n                  (for/fold ([c 0]) ([i (in-range iterations)])\\n                    (fx+ c (fx+ (check (make i d))\\n                                (check (make (fx- 0 i) d))))))))\\n      (printf \"long lived tree of depth ~a\\\\t check: ~a\\\\n\"\\n              max-depth\\n              (check long-lived-tree)))))\\n\\n(command-line #:args (n) (main (string->number n)))\\n',\n",
       "  'Scheme'),\n",
       " ('#lang racket/base\\n\\n;;; The Computer Language Benchmarks Game\\n;;; http://benchmarksgame.alioth.debian.org/\\n;;; Derived from the Chicken variant by Sven Hartrumpf\\n;;; contributed by Sam Tobin-Hochstadt\\n\\n(require racket/cmdline racket/require (for-syntax racket/base) racket/place (only-in racket/fixnum make-shared-fxvector)\\n         (filtered-in (lambda (name) (regexp-replace #rx\"unsafe-\" name \"\"))\\n                      racket/unsafe/ops))\\n\\n(define-syntax-rule (**leaf? v) (fx= 1 (vector-length v)))\\n(define-syntax-rule (**node? v) (fx= 3 (vector-length v)))\\n\\n(define-syntax leaf  (make-rename-transformer #\\'vector))\\n(define-syntax leaf? (make-rename-transformer #\\'**leaf?))\\n(define-syntax node  (make-rename-transformer #\\'vector))\\n(define-syntax node? (make-rename-transformer #\\'**node?))\\n(define-syntax-rule (leaf-val l)   (vector-ref l 0))\\n(define-syntax-rule (node-left n)  (vector-ref n 1))\\n(define-syntax-rule (node-right n) (vector-ref n 2))\\n\\n(define (make item d)\\n  (if (fx= d 0)\\n    (leaf item)\\n    (let ([item2 (fx* item 2)] [d2 (fx- d 1)])\\n      (node item (make (fx- item2 1) d2) (make item2 d2)))))\\n\\n(define-syntax-rule (check s)\\n  (let loop ([t s] [acc 0])\\n    (let ([acc (fx+ (leaf-val t) acc)])\\n      (if (node? t)\\n        (loop (node-left t)\\n              (fx- acc (loop (node-right t) 0)))\\n        acc))))\\n\\n(require racket/match)\\n(define (work c)\\n  (define args (place-channel-get c))\\n  (match-define (vector max-depth min-depth d) args)\\n  (define iterations (fxlshift 1 (fx+ (fx- max-depth d) min-depth)))\\n  (place-channel-put \\n   c (vector (fx* 2 iterations) d\\n             (for/fold ([c 0]) ([i (in-range iterations)])\\n               (fx+ c (fx+ (check (make i d))\\n                           (check (make (fx- 0 i) d))))))))\\n\\n(define min-depth 4)\\n(define (main* n)  \\n  (define max-depth (max (+ min-depth 2) n))\\n  (define stretch-depth (+ max-depth 1))\\n  (printf \"stretch tree of depth ~a\\\\t check: ~a\\\\n\"\\n          stretch-depth\\n          (check (make 0 stretch-depth)))\\n  (define len (fx+ max-depth 1))\\n  (define output (make-vector len #f))\\n  (define long-lived-tree (make 0 max-depth))\\n  (define thds\\n    (for/list ([d (in-range 4 len 2)])\\n      (thread (λ ()\\n                (define c (place ch (work ch)))\\n                (place-channel-put c (vector max-depth min-depth d))\\n                (vector-set! output d (place-channel-get c))))))\\n  (map sync thds)\\n  (for ([e (in-vector output)] #:when e)\\n    (printf \"~a\\\\t trees of depth ~a\\\\t check: ~a\\\\n\"\\n            (vector-ref e 0) (vector-ref e 1) (vector-ref e 2)))\\n  (printf \"long lived tree of depth ~a\\\\t check: ~a\\\\n\"\\n          max-depth\\n          (check long-lived-tree)))\\n(define (main a) (main* (string->number a))) (provide main)\\n',\n",
       "  'Scheme'),\n",
       " (';;   The Computer Language Benchmarks Game\\n;;   http://benchmarksgame.alioth.debian.org/\\n;;;\\n;;; contributed by Manuel Giraud\\n;;; modified by Nicolas Neuss\\n;;; modified by Juho Snellman 2005-10-26\\n;;;\\n;;; modified by Witali Kusnezow 2009-01-20\\n;;;  * simplified structure of leaf nodes\\n;;;  * optimize GC usage\\n;;;  * optimize all functions\\n;;;\\n;;; modified by Witali Kusnezow 2009-08-20\\n;;;  * remove GC hacks to satisfy new versions of the sbcl\\n\\n;;; Node is either (DATA) (for leaf nodes) or an improper list (DATA LEFT . RIGHT)\\n\\n(defun build-btree (item depth)\\n  (declare (fixnum item depth))\\n  (if (zerop depth) (list item)\\n      (let ((item2 (+ item item))\\n            (depth-1 (1- depth)))\\n        (declare (fixnum item2 depth-1))\\n        (cons item\\n\\t\\t\\t\\t(cons (build-btree (the fixnum (1- item2)) depth-1) \\n\\t\\t\\t\\t\\t  (build-btree item2 depth-1))))))\\n\\n(defun check-node (node)\\n  (declare (values fixnum))\\n  (let ((data (car node))\\n        (kids (cdr node)))\\n    (declare (fixnum data))\\n    (if kids\\n        (- (+ data (check-node (car kids)))\\n           (check-node (cdr kids)))\\n        data)))\\n\\n(defun loop-depths (max-depth &key (min-depth 4))\\n  (declare (type fixnum max-depth min-depth))\\n  (loop for d of-type fixnum from min-depth by 2 upto max-depth do\\n       (loop with iterations of-type fixnum = (ash 1 (+ max-depth min-depth (- d)))\\n          for i of-type fixnum from 1 upto iterations\\n          sum (+ (the fixnum (check-node (build-btree i d)))\\n                 (the fixnum (check-node (build-btree (- i) d))))\\n          into result of-type fixnum\\n          finally\\n            (format t \"~D\\t trees of depth ~D\\t check: ~D~%\"\\n                    (the fixnum (+ iterations iterations )) d result))))\\n\\n(defun main (&optional (n (parse-integer\\n                           (or (car (last #+sbcl sb-ext:*posix-argv*\\n                                          #+cmu  extensions:*command-line-strings*\\n                                          #+gcl  si::*command-args*))\\n                               \"1\"))))\\n  (declare (type (integer 0 255) n))\\n  (format t \"stretch tree of depth ~D\\t check: ~D~%\" (1+ n) (check-node (build-btree 0 (1+ n))))\\n  (let ((*print-pretty* nil) (long-lived-tree (build-btree 0 n)))\\n    (purify)\\n    (loop-depths n)\\n    (format t \"long lived tree of depth ~D\\t check: ~D~%\" n (check-node long-lived-tree))))\\n',\n",
       "  'Common Lisp'),\n",
       " (';;   The Computer Language Benchmarks Game\\n;;   http://benchmarksgame.alioth.debian.org/\\n;;;\\n;;; contributed by Manuel Giraud\\n;;; modified by Nicolas Neuss\\n;;; modified by Juho Snellman 2005-10-26\\n;;;\\n;;; modified by Witali Kusnezow 2009-01-20\\n;;;  * simplified structure of leaf nodes\\n;;;  * optimize GC usage\\n;;;  * optimize all functions\\n;;;\\n;;; modified by Witali Kusnezow 2009-08-20\\n;;;  * remove GC hacks to satisfy new versions of the sbcl\\n;;;\\n;;; modified by Marko Kocic 2011-02-18\\n;;;  * add declaim to optimize for speed\\n;;;\\n\\n;;; Node is either (DATA) (for leaf nodes) or an improper list (DATA LEFT . RIGHT)\\n\\n(declaim (optimize (speed 3) (debug 0) (space 0) (safety 0)))\\n\\n(defun build-btree (item depth)\\n  (declare (fixnum item depth))\\n  (if (zerop depth) (list item)\\n      (let ((item2 (+ item item))\\n            (depth-1 (1- depth)))\\n        (declare (fixnum item2 depth-1))\\n        (cons item\\n\\t\\t\\t\\t(cons (build-btree (the fixnum (1- item2)) depth-1) \\n\\t\\t\\t\\t\\t  (build-btree item2 depth-1))))))\\n\\n(defun check-node (node)\\n  (declare (values fixnum))\\n  (let ((data (car node))\\n        (kids (cdr node)))\\n    (declare (fixnum data))\\n    (if kids\\n        (- (+ data (check-node (car kids)))\\n           (check-node (cdr kids)))\\n        data)))\\n\\n(defun loop-depths (max-depth &key (min-depth 4))\\n  (declare (type fixnum max-depth min-depth))\\n  (loop for d of-type fixnum from min-depth by 2 upto max-depth do\\n       (loop with iterations of-type fixnum = (ash 1 (+ max-depth min-depth (- d)))\\n          for i of-type fixnum from 1 upto iterations\\n          sum (+ (the fixnum (check-node (build-btree i d)))\\n                 (the fixnum (check-node (build-btree (- i) d))))\\n          into result of-type fixnum\\n          finally\\n            (format t \"~D\\t trees of depth ~D\\t check: ~D~%\"\\n                    (the fixnum (+ iterations iterations )) d result))))\\n\\n(defun main (&optional (n (parse-integer\\n                           (or (car (last #+sbcl sb-ext:*posix-argv*\\n                                          #+cmu  extensions:*command-line-strings*\\n                                          #+gcl  si::*command-args*))\\n                               \"1\"))))\\n  (declare (type (integer 0 255) n))\\n  (format t \"stretch tree of depth ~D\\t check: ~D~%\" (1+ n) (check-node (build-btree 0 (1+ n))))\\n  (let ((*print-pretty* nil) (long-lived-tree (build-btree 0 n)))\\n    (purify)\\n    (loop-depths n)\\n    (format t \"long lived tree of depth ~D\\t check: ~D~%\" n (check-node long-lived-tree))))\\n',\n",
       "  'Common Lisp'),\n",
       " ('/* The Computer Language Benchmarks Game\\n   http://benchmarksgame.alioth.debian.org/\\n\\n   contributed by Kannan Goundan\\n   modified by Isaac Gouy\\n   optimized by David Pollak\\n   updated to 2.8 by Rex Kerr\\n   modified by Piotr Tarsa\\n*/\\n\\nsealed abstract class Node(i: Int, left: Node, right: Node) {\\n  def isum: Int\\n}\\ncase class NonLeaf(i: Int, left: Node, right: Node) extends Node(i, left, right) {\\n  def isum: Int = i + left.isum - right.isum\\n}\\ncase class Leaf(i: Int) extends Node(i, NullNode, NullNode) {\\n  def isum: Int = i\\n}\\ncase object NullNode extends Node(0, new Leaf(0), new Leaf(0)) {\\n  def isum: Int = 0\\n}\\n\\nobject Tree {\\n  def apply(i: Int, depth: Int): Node = {\\n    if (depth > 0) NonLeaf(i, Tree(i * 2 - 1, depth - 1), Tree(i * 2, depth - 1))\\n    else Leaf(i)\\n  }\\n}\\n\\nobject binarytrees {\\n  def main(args: Array[String]) = {\\n    val n = try{ args(0).toInt } catch { case _ => 1 }\\n    val minDepth = 4\\n    val maxDepth = n max (minDepth + 2)\\n\\n    def print(name: String, depth: Int, check: Int) =\\n      println(name + \" of depth \" + depth + \"\\\\t check: \" + check)\\n\\n    print(\"stretch tree\", maxDepth + 1, Tree(0, maxDepth + 1).isum)\\n    val longLivedTree = Tree(0, maxDepth)\\n    minDepth to maxDepth by 2 foreach {\\n      depth =>\\n      val iterations = 1 << (maxDepth - depth + minDepth)\\n      var i, sum = 0\\n      while (i < iterations) {\\n        i += 1\\n        sum += Tree(i, depth).isum + Tree(-i, depth).isum\\n      }\\n      print(iterations *2  + \"\\\\t trees\", depth, sum)\\n    }\\n    print(\"long lived tree\", maxDepth, longLivedTree.isum)\\n  }\\n}\\n',\n",
       "  'Scala'),\n",
       " ('/* The Computer Language Benchmarks Game\\n   http://benchmarksgame.alioth.debian.org/\\n\\n   contributed by Kannan Goundan\\n   modified by Isaac Gouy\\n   optimized by David Pollak\\n   updated for 2.8 and parallelized by Rex Kerr\\n*/\\n\\nimport scala.actors.Futures._\\n\\nobject binarytrees {\\n  def report(name: String, depth: Int, check: Int) =\\n    println(name + \" of depth \" + depth + \"\\\\t check: \" + check)\\n\\n  def main(args: Array[String]) = {\\n    val n = try{ args(0).toInt } catch { case _ => 1 }\\n    val minDepth = 4\\n    val maxDepth = n max (minDepth+2)\\n    val threads = 3  // More than 3 tends to overwhelm GC\\n\\n    report(\"stretch tree\", maxDepth+1, Tree(0,maxDepth+1).isum)\\n    val longLivedTree = Tree(0,maxDepth)\\n    var depth = minDepth\\n    while (depth <= maxDepth) {\\n      val iterations = 1 << (maxDepth - depth + minDepth)\\n      val limits = (0 to threads).map(_*iterations/threads).sliding(2).toList\\n      val check = limits.map(i => future(Go(i(0)+1,i(1),depth).calc))\\n      report(iterations*2 + \"\\\\t trees\", depth, check.map(_()).sum)\\n      depth += 2\\n    }\\n    report(\"long lived tree\", maxDepth, longLivedTree.isum)\\n  }\\n}\\n\\ncase class Sum(var sum: Int) {\\n  def +=(i: Int) = { sum+=i; this }\\n}\\n\\ncase class Go(i0: Int, i1: Int, depth: Int) {\\n  def calc = (Sum(0) /: (i0 to i1))((s,i) =>\\n    s += Tree(i,depth).isum + Tree(-i,depth).isum\\n  ).sum\\n}\\n\\nfinal class Tree(i: Int, left: Tree, right: Tree) {\\n  def isum: Int = if (left eq null) i else i + left.isum - right.isum\\n}\\nobject Tree {\\n  def apply(i: Int, depth: Int): Tree = {\\n    if (depth > 0) new Tree(i, Tree(i*2-1, depth-1), Tree(i*2, depth-1))\\n    else new Tree(i, null, null)\\n  }\\n}\\n\\n',\n",
       "  'Scala'),\n",
       " ('/* The Computer Language Benchmarks Game\\n   http://benchmarksgame.alioth.debian.org/\\n\\n   contributed by Kannan Goundan\\n   modified by Isaac Gouy\\n   optimized by David Pollak\\n   updated to 2.8 by Rex Kerr\\n*/\\n\\nobject binarytrees {\\n  def main(args: Array[String]) = {\\n    val n = try{ args(0).toInt } catch { case _ => 1 }\\n    val minDepth = 4\\n    val maxDepth = n max (minDepth+2)\\n\\n    def print(name: String, depth: Int, check: Int) =\\n      println(name + \" of depth \" + depth + \"\\\\t check: \" + check)\\n\\n    print(\"stretch tree\", maxDepth+1, Tree(0,maxDepth+1).isum)\\n    val longLivedTree = Tree(0,maxDepth)\\n    var depth = minDepth\\n    while (depth <= maxDepth) {\\n      val iterations = 1 << (maxDepth - depth + minDepth)\\n      var i,sum = 0\\n      while (i < iterations) {\\n        i += 1\\n        sum += Tree(i,depth).isum + Tree(-i,depth).isum\\n      }\\n      print(iterations*2 + \"\\\\t trees\", depth, sum)\\n      depth += 2\\n    }\\n    print(\"long lived tree\", maxDepth, longLivedTree.isum)\\n  }\\n}\\n\\nfinal class Tree(i: Int, left: Tree, right: Tree) {\\n  def isum: Int = {\\n    val tl = left\\n    if (tl eq null) i\\n    else i + tl.isum - right.isum\\n  }\\n}\\nobject Tree {\\n  def apply(i: Int, depth: Int): Tree = {\\n    if (depth > 0) new Tree(i, Tree(i*2-1, depth-1), Tree(i*2, depth-1))\\n    else new Tree(i, null, null)\\n  }\\n}\\n',\n",
       "  'Scala'),\n",
       " ('# The Computer Language Benchmarks Game\\n# http://benchmarksgame.alioth.debian.org\\n#\\n# contributed by Jesse Millikan\\n# Modified by Wesley Moxam\\n\\n\\ndef item_check(left, item, right)\\n  return item if left.nil?\\n  item + item_check(*left) - item_check(*right)\\nend\\n\\ndef bottom_up_tree(item, depth)\\n  return [nil, item, nil] unless depth > 0\\n  item_item = 2 * item\\n  depth -= 1\\n  [bottom_up_tree(item_item - 1, depth), item, bottom_up_tree(item_item, depth)]\\nend\\n\\nmax_depth = ARGV[0].to_i\\nmin_depth = 4\\n\\nmax_depth = min_depth + 2 if min_depth + 2 > max_depth\\n\\nstretch_depth = max_depth + 1\\nstretch_tree = bottom_up_tree(0, stretch_depth)\\n\\nputs \"stretch tree of depth #{stretch_depth}\\\\t check: #{item_check(*stretch_tree)}\"\\nstretch_tree = nil\\n\\nlong_lived_tree = bottom_up_tree(0, max_depth)\\n\\nmin_depth.step(max_depth + 1, 2) do |depth|\\n  iterations = 2**(max_depth - depth + min_depth)\\n\\n  check = 0\\n\\n  for i in 1..iterations\\n    temp_tree = bottom_up_tree(i, depth)\\n    check += item_check(*temp_tree)\\n\\n    temp_tree = bottom_up_tree(-i, depth)\\n    check += item_check(*temp_tree)\\n  end\\n\\n  puts \"#{iterations * 2}\\\\t trees of depth #{depth}\\\\t check: #{check}\"\\nend\\n\\nputs \"long lived tree of depth #{max_depth}\\\\t check: #{item_check(*long_lived_tree)}\"\\n\\n',\n",
       "  'Ruby'),\n",
       " ('# The Computer Language Benchmarks Game\\n# http://benchmarksgame.alioth.debian.org\\n#\\n# contributed by Jesse Millikan\\n# Modified by Wesley Moxam and Michael Klaus\\n\\n\\ndef item_check(left, item, right)\\n  return item if left.nil?\\n  item + item_check(*left) - item_check(*right)\\nend\\n\\ndef bottom_up_tree(item, depth)\\n  return [nil, item, nil] if depth == 0\\n  item_item = 2 * item\\n  depth -= 1\\n  [bottom_up_tree(item_item - 1, depth), item, bottom_up_tree(item_item, depth)]\\nend\\n\\nmax_depth = ARGV[0].to_i\\nmin_depth = 4\\n\\nmax_depth = [min_depth + 2, max_depth].max\\n\\nstretch_depth = max_depth + 1\\nstretch_tree = bottom_up_tree(0, stretch_depth)\\n\\nputs \"stretch tree of depth #{stretch_depth}\\\\t check: #{item_check(*stretch_tree)}\"\\nstretch_tree = nil\\n\\nlong_lived_tree = bottom_up_tree(0, max_depth)\\n\\nbase_depth = max_depth + min_depth\\nmin_depth.step(max_depth + 1, 2) do |depth|\\n  iterations = 2 ** (base_depth - depth)\\n\\n  check = 0\\n\\n  for i in 1..iterations\\n    temp_tree = bottom_up_tree(i, depth)\\n    check += item_check(*temp_tree)\\n\\n    temp_tree = bottom_up_tree(-i, depth)\\n    check += item_check(*temp_tree)\\n  end\\n\\n  puts \"#{iterations * 2}\\\\t trees of depth #{depth}\\\\t check: #{check}\"\\nend\\n\\nputs \"long lived tree of depth #{max_depth}\\\\t check: #{item_check(*long_lived_tree)}\"\\n\\n\\n',\n",
       "  'Ruby'),\n",
       " ('# The Computer Language Benchmarks Game\\n# http://benchmarksgame.alioth.debian.org\\n#\\n# contributed by Jesse Millikan\\n# Modified by Wesley Moxam and Michael Klaus\\n# Modified by  Chris Houhoulis:\\n#   trigger GC; move stretch_tree into loop; use while instead of a block\\n\\ndef item_check(left, item, right)\\n  return item if left.nil?\\n  item + item_check(*left) - item_check(*right)\\nend\\n\\ndef bottom_up_tree(item, depth)\\n  return [nil, item, nil] if depth == 0\\n  item_item = 2 * item\\n  depth -= 1\\n  [bottom_up_tree(item_item - 1, depth), item, bottom_up_tree(item_item, depth)]\\nend\\n\\nmax_depth = ARGV[0].to_i\\nmin_depth = 4\\n\\nmax_depth = [min_depth + 2, max_depth].max\\n\\n1.times do\\n  stretch_depth = max_depth + 1\\n  stretch_tree = bottom_up_tree(0, stretch_depth)\\n  puts \"stretch tree of depth #{stretch_depth}\\\\t check: \" +\\n    \"#{item_check(*stretch_tree)}\"\\nend\\nGC.start\\n\\nlong_lived_tree = bottom_up_tree(0, max_depth)\\n\\nbase_depth = max_depth + min_depth\\nmin_depth.step(max_depth + 1, 2) do |depth|\\n  iterations = 2 ** (base_depth - depth)\\n\\n  check, i = 0, 1\\n\\n  while i <= iterations\\n    temp_tree = bottom_up_tree(i, depth)\\n    check += item_check(*temp_tree)\\n\\n    temp_tree = bottom_up_tree(-i, depth)\\n    check += item_check(*temp_tree)\\n    i += 1\\n  end\\n\\n  puts \"#{iterations * 2}\\\\t trees of depth #{depth}\\\\t check: #{check}\"\\nend\\nGC.start\\n\\nputs \"long lived tree of depth #{max_depth}\\\\t check: \" +\\n  \"#{item_check(*long_lived_tree)}\"\\n',\n",
       "  'Ruby'),\n",
       " ('# The Computer Language Benchmarks Game\\n# http://benchmarksgame.alioth.debian.org\\n#\\n# contributed by Jesse Millikan\\n# Modified by Wesley Moxam\\n# Modified by Scott Leggett\\n\\ndef item_check(left, item, right)\\n    if left\\n        item + item_check(*left) - item_check(*right)\\n    else\\n        item\\n    end\\nend\\n\\ndef bottom_up_tree(item, depth)\\n    if depth > 0\\n        item_item = 2 * item\\n        depth -= 1\\n        [bottom_up_tree(item_item - 1, depth), item, bottom_up_tree(item_item, depth)]\\n    else\\n        [nil, item, nil]\\n    end\\nend\\n\\nmax_depth = ARGV[0].to_i\\nmin_depth = 4\\n\\nmax_depth = [min_depth + 2, max_depth].max\\n\\nstretch_depth = max_depth + 1\\nstretch_tree = bottom_up_tree(0, stretch_depth)\\n\\nputs \"stretch tree of depth #{stretch_depth}\\\\t check: #{item_check(*stretch_tree)}\"\\nstretch_tree = nil\\n\\nlong_lived_tree = bottom_up_tree(0, max_depth)\\n\\nmin_depth.step(max_depth + 1, 2) do |depth|\\n  iterations = 2**(max_depth - depth + min_depth)\\n\\n  check = 0\\n\\n  (1..iterations).each do |i|\\n    check += item_check(*bottom_up_tree(i, depth))\\n    check += item_check(*bottom_up_tree(-i, depth))\\n  end\\n\\n  puts \"#{iterations * 2}\\\\t trees of depth #{depth}\\\\t check: #{check}\"\\nend\\n\\nputs \"long lived tree of depth #{max_depth}\\\\t check: #{item_check(*long_lived_tree)}\"\\n',\n",
       "  'Ruby'),\n",
       " ('# The Computer Language Benchmarks Game\\n# http://benchmarksgame.alioth.debian.org\\n#\\n# contributed by Jesse Millikan\\n# Modified by Wesley Moxam\\n# Modified && Parallelised by Scott Leggett\\n\\nmodule MiniParallel\\n    class Worker\\n        def initialize(read, write)\\n            @read, @write = read, write\\n        end\\n\\n        def close_pipes\\n            @read.close\\n            @write.close\\n        end\\n\\n        def work(index)\\n            Marshal.dump(index, @write)\\n            Marshal.load(@read)\\n        end\\n    end\\n\\n    def self.map(array, &block)\\n        work_in_processes(\\n            array,\\n            [array.size, core_count].min,\\n            &block\\n        )\\n    end\\n\\n    def self.core_count\\n        @@core_count ||= IO.read(\"/proc/cpuinfo\").scan(/^processor/).size\\n    end\\n\\n    private\\n\\n    def self.work_in_processes(array, count, &block)\\n        index = -1\\n        results, threads = [], []\\n\\n        workers = create_workers(array, count, &block)\\n\\n        workers.each do |worker|\\n            threads << Thread.new do\\n              loop do\\n                Thread.exclusive{ index += 1 }\\n                break if index >= array.size\\n                results[index] = worker.work(index)\\n              end\\n              worker.close_pipes\\n            end\\n        end\\n\\n        threads.each(&:join)\\n        Process.waitall\\n\\n        results\\n    end\\n\\n    def self.create_workers(array, count, &block)\\n        workers = []\\n        count.times do\\n            workers << create_worker(array, workers, &block)\\n        end\\n        workers\\n    end\\n\\n    def self.create_worker(array, started_workers, &block)\\n        child_read, parent_write = IO.pipe\\n        parent_read, child_write = IO.pipe\\n\\n        Process.fork do\\n            started_workers.each(&:close_pipes)\\n\\n            parent_write.close\\n            parent_read.close\\n\\n            process_incoming_jobs(child_read, child_write, array, &block)\\n\\n            child_read.close\\n            child_write.close\\n        end\\n\\n        child_read.close\\n        child_write.close\\n\\n        Worker.new(parent_read, parent_write)\\n    end\\n\\n    def self.process_incoming_jobs(read, write, array, &block)\\n        until read.eof?\\n            index = Marshal.load(read)\\n            Marshal.dump(block.call(array[index]), write)\\n        end\\n    end\\nend\\n\\ndef item_check(left, item, right)\\n    if left\\n        item + item_check(*left) - item_check(*right)\\n    else\\n        item\\n    end\\nend\\n\\ndef bottom_up_tree(item, depth)\\n    if depth > 0\\n        item_item = 2 * item\\n        depth -= 1\\n        [bottom_up_tree(item_item - 1, depth), item, bottom_up_tree(item_item, depth)]\\n    else\\n        [nil, item, nil]\\n    end\\nend\\n\\nmax_depth = ARGV[0].to_i\\nmin_depth = 4\\n\\nmax_depth = [min_depth + 2, max_depth].max\\n\\nstretch_depth = max_depth + 1\\nstretch_tree = bottom_up_tree(0, stretch_depth)\\n\\nputs \"stretch tree of depth #{stretch_depth}\\\\t check: #{item_check(*stretch_tree)}\"\\nstretch_tree = nil\\n\\nlong_lived_tree = bottom_up_tree(0, max_depth)\\n\\nif MiniParallel.core_count > 1\\n    if RUBY_PLATFORM == \\'java\\'\\n        output = []\\n        threads = []\\n        min_depth.step(max_depth + 1, 2).to_a.each.with_index do |depth,j|\\n            threads << Thread.new do\\n                iterations = 2**(max_depth - depth + min_depth)\\n\\n                check = 0\\n\\n                (1..iterations).each do |i|\\n                    check += item_check(*bottom_up_tree(i, depth)) +\\n                        item_check(*bottom_up_tree(-i, depth))\\n                end\\n\\n                output[j] = \"#{iterations * 2}\\\\t trees of depth #{depth}\\\\t check: #{check}\"\\n            end\\n        end\\n        threads.all?(&:join)\\n        output.each{|l| puts l}\\n    else\\n        MiniParallel.map(min_depth.step(max_depth + 1, 2).to_a) do |depth|\\n            iterations = 2**(max_depth - depth + min_depth)\\n\\n            check = 0\\n\\n            (1..iterations).each do |i|\\n                check += item_check(*bottom_up_tree(i, depth)) +\\n                    item_check(*bottom_up_tree(-i, depth))\\n            end\\n\\n            \"#{iterations * 2}\\\\t trees of depth #{depth}\\\\t check: #{check}\"\\n        end.each{|l| puts l}\\n    end\\nelse\\n    min_depth.step(max_depth + 1, 2).each do |depth|\\n        iterations = 2**(max_depth - depth + min_depth)\\n\\n        check = 0\\n\\n        (1..iterations).each do |i|\\n            check += item_check(*bottom_up_tree(i, depth)) +\\n                item_check(*bottom_up_tree(-i, depth))\\n        end\\n\\n        puts \"#{iterations * 2}\\\\t trees of depth #{depth}\\\\t check: #{check}\"\\n    end\\nend\\n\\nputs \"long lived tree of depth #{max_depth}\\\\t check: #{item_check(*long_lived_tree)}\"\\n',\n",
       "  'Ruby')]"
      ]
     },
     "execution_count": 82,
     "metadata": {},
     "output_type": "execute_result"
    }
   ],
   "source": [
    "read_train_files()"
   ]
  },
  {
   "cell_type": "code",
   "execution_count": 83,
   "metadata": {
    "collapsed": false
   },
   "outputs": [],
   "source": [
    "train = read_train_files()\n",
    "train = pd.DataFrame(train, columns = [\"code\", \"language\"])\n"
   ]
  },
  {
   "cell_type": "code",
   "execution_count": 87,
   "metadata": {
    "collapsed": false
   },
   "outputs": [
    {
     "data": {
      "text/html": [
       "<div>\n",
       "<table border=\"1\" class=\"dataframe\">\n",
       "  <thead>\n",
       "    <tr style=\"text-align: right;\">\n",
       "      <th></th>\n",
       "      <th>code</th>\n",
       "      <th>language</th>\n",
       "    </tr>\n",
       "  </thead>\n",
       "  <tbody>\n",
       "    <tr>\n",
       "      <th>0</th>\n",
       "      <td>;; The Computer Language Benchmarks Game\\n;; h...</td>\n",
       "      <td>Clojure</td>\n",
       "    </tr>\n",
       "    <tr>\n",
       "      <th>1</th>\n",
       "      <td>;; The Computer Language Benchmarks Game\\n;; h...</td>\n",
       "      <td>Clojure</td>\n",
       "    </tr>\n",
       "    <tr>\n",
       "      <th>2</th>\n",
       "      <td>;; The Computer Language Benchmarks Game\\n;; h...</td>\n",
       "      <td>Clojure</td>\n",
       "    </tr>\n",
       "    <tr>\n",
       "      <th>3</th>\n",
       "      <td>﻿/*\\n      The Computer Language Benchmarks Ga...</td>\n",
       "      <td>C#</td>\n",
       "    </tr>\n",
       "    <tr>\n",
       "      <th>4</th>\n",
       "      <td>/* The Computer Language Benchmarks Game\\n   h...</td>\n",
       "      <td>C#</td>\n",
       "    </tr>\n",
       "    <tr>\n",
       "      <th>5</th>\n",
       "      <td>/* The Computer Language Benchmarks Game\\n * h...</td>\n",
       "      <td>C</td>\n",
       "    </tr>\n",
       "    <tr>\n",
       "      <th>6</th>\n",
       "      <td>/* \\n * The Computer Language Benchmarks Game ...</td>\n",
       "      <td>C</td>\n",
       "    </tr>\n",
       "  </tbody>\n",
       "</table>\n",
       "</div>"
      ],
      "text/plain": [
       "                                                code language\n",
       "0  ;; The Computer Language Benchmarks Game\\n;; h...  Clojure\n",
       "1  ;; The Computer Language Benchmarks Game\\n;; h...  Clojure\n",
       "2  ;; The Computer Language Benchmarks Game\\n;; h...  Clojure\n",
       "3  ﻿/*\\n      The Computer Language Benchmarks Ga...       C#\n",
       "4  /* The Computer Language Benchmarks Game\\n   h...       C#\n",
       "5  /* The Computer Language Benchmarks Game\\n * h...        C\n",
       "6  /* \\n * The Computer Language Benchmarks Game ...        C"
      ]
     },
     "execution_count": 87,
     "metadata": {},
     "output_type": "execute_result"
    }
   ],
   "source": [
    "train.head(7)"
   ]
  },
  {
   "cell_type": "code",
   "execution_count": 101,
   "metadata": {
    "collapsed": false
   },
   "outputs": [
    {
     "data": {
      "text/plain": [
       "Ruby           9\n",
       "PHP            7\n",
       "C              6\n",
       "Haskell        3\n",
       "Scheme         3\n",
       "Scala          3\n",
       "OCaml          3\n",
       "Clojure        3\n",
       "Java           3\n",
       "C#             2\n",
       "Common Lisp    2\n",
       "Perl           2\n",
       "Javascript     1\n",
       "Python         1\n",
       "dtype: int64"
      ]
     },
     "execution_count": 101,
     "metadata": {},
     "output_type": "execute_result"
    }
   ],
   "source": [
    "train.language.value_counts()"
   ]
  },
  {
   "cell_type": "code",
   "execution_count": 116,
   "metadata": {
    "collapsed": false
   },
   "outputs": [
    {
     "data": {
      "text/html": [
       "<div>\n",
       "<table border=\"1\" class=\"dataframe\">\n",
       "  <thead>\n",
       "    <tr style=\"text-align: right;\">\n",
       "      <th></th>\n",
       "      <th>code</th>\n",
       "    </tr>\n",
       "  </thead>\n",
       "  <tbody>\n",
       "    <tr>\n",
       "      <th>0</th>\n",
       "      <td>;; The Computer Language Benchmarks Game\\n;; h...</td>\n",
       "    </tr>\n",
       "    <tr>\n",
       "      <th>1</th>\n",
       "      <td>;; The Computer Language Benchmarks Game\\n;; h...</td>\n",
       "    </tr>\n",
       "    <tr>\n",
       "      <th>2</th>\n",
       "      <td>;; The Computer Language Benchmarks Game\\n;; h...</td>\n",
       "    </tr>\n",
       "    <tr>\n",
       "      <th>3</th>\n",
       "      <td>﻿/*\\n      The Computer Language Benchmarks Ga...</td>\n",
       "    </tr>\n",
       "    <tr>\n",
       "      <th>4</th>\n",
       "      <td>/* The Computer Language Benchmarks Game\\n   h...</td>\n",
       "    </tr>\n",
       "    <tr>\n",
       "      <th>5</th>\n",
       "      <td>/* The Computer Language Benchmarks Game\\n * h...</td>\n",
       "    </tr>\n",
       "    <tr>\n",
       "      <th>6</th>\n",
       "      <td>/* \\n * The Computer Language Benchmarks Game ...</td>\n",
       "    </tr>\n",
       "  </tbody>\n",
       "</table>\n",
       "</div>"
      ],
      "text/plain": [
       "                                                code\n",
       "0  ;; The Computer Language Benchmarks Game\\n;; h...\n",
       "1  ;; The Computer Language Benchmarks Game\\n;; h...\n",
       "2  ;; The Computer Language Benchmarks Game\\n;; h...\n",
       "3  ﻿/*\\n      The Computer Language Benchmarks Ga...\n",
       "4  /* The Computer Language Benchmarks Game\\n   h...\n",
       "5  /* The Computer Language Benchmarks Game\\n * h...\n",
       "6  /* \\n * The Computer Language Benchmarks Game ..."
      ]
     },
     "execution_count": 116,
     "metadata": {},
     "output_type": "execute_result"
    }
   ],
   "source": [
    "X = train.loc[:,[\"code\"]]\n",
    "X.head(7)"
   ]
  },
  {
   "cell_type": "code",
   "execution_count": 114,
   "metadata": {
    "collapsed": false
   },
   "outputs": [
    {
     "data": {
      "text/plain": [
       "0    Clojure\n",
       "1    Clojure\n",
       "2    Clojure\n",
       "3         C#\n",
       "4         C#\n",
       "5          C\n",
       "6          C\n",
       "Name: language, dtype: object"
      ]
     },
     "execution_count": 114,
     "metadata": {},
     "output_type": "execute_result"
    }
   ],
   "source": [
    "y = train.loc[:, \"language\"]\n",
    "y.head(7)"
   ]
  },
  {
   "cell_type": "code",
   "execution_count": null,
   "metadata": {
    "collapsed": true
   },
   "outputs": [],
   "source": []
  },
  {
   "cell_type": "code",
   "execution_count": 117,
   "metadata": {
    "collapsed": false
   },
   "outputs": [
    {
     "data": {
      "text/plain": [
       "CountVectorizer(analyzer='word', binary=False, decode_error='strict',\n",
       "        dtype=<class 'numpy.int64'>, encoding='utf-8', input='content',\n",
       "        lowercase=True, max_df=1.0, max_features=None, min_df=1,\n",
       "        ngram_range=(1, 1), preprocessor=None, stop_words=None,\n",
       "        strip_accents=None, token_pattern='(?u)\\\\b\\\\w\\\\w+\\\\b',\n",
       "        tokenizer=None, vocabulary=None)"
      ]
     },
     "execution_count": 117,
     "metadata": {},
     "output_type": "execute_result"
    }
   ],
   "source": [
    "vectorizer = CountVectorizer()\n",
    "vectorizer"
   ]
  },
  {
   "cell_type": "code",
   "execution_count": 118,
   "metadata": {
    "collapsed": false
   },
   "outputs": [
    {
     "data": {
      "text/plain": [
       "CountVectorizer(analyzer='word', binary=False, decode_error='strict',\n",
       "        dtype=<class 'numpy.int64'>, encoding='utf-8', input='content',\n",
       "        lowercase=True, max_df=1.0, max_features=None, min_df=1,\n",
       "        ngram_range=(1, 1), preprocessor=None, stop_words=None,\n",
       "        strip_accents=None, token_pattern='(?u)\\\\b\\\\w\\\\w+\\\\b',\n",
       "        tokenizer=None, vocabulary=None)"
      ]
     },
     "execution_count": 118,
     "metadata": {},
     "output_type": "execute_result"
    }
   ],
   "source": [
    "vectorizer.fit(X, y)"
   ]
  },
  {
   "cell_type": "code",
   "execution_count": 119,
   "metadata": {
    "collapsed": false
   },
   "outputs": [
    {
     "ename": "TypeError",
     "evalue": "fit() missing 1 required positional argument: 'y'",
     "output_type": "error",
     "traceback": [
      "\u001b[0;31m---------------------------------------------------------------------------\u001b[0m",
      "\u001b[0;31mTypeError\u001b[0m                                 Traceback (most recent call last)",
      "\u001b[0;32m<ipython-input-119-8e795cc9ff4e>\u001b[0m in \u001b[0;36m<module>\u001b[0;34m()\u001b[0m\n\u001b[1;32m      1\u001b[0m \u001b[0mclassifier\u001b[0m \u001b[0;34m=\u001b[0m \u001b[0mMultinomialNB\u001b[0m\u001b[0;34m\u001b[0m\u001b[0m\n\u001b[0;32m----> 2\u001b[0;31m \u001b[0mclassifier\u001b[0m\u001b[0;34m.\u001b[0m\u001b[0mfit\u001b[0m\u001b[0;34m(\u001b[0m\u001b[0mX\u001b[0m\u001b[0;34m,\u001b[0m \u001b[0my\u001b[0m\u001b[0;34m)\u001b[0m\u001b[0;34m\u001b[0m\u001b[0m\n\u001b[0m",
      "\u001b[0;31mTypeError\u001b[0m: fit() missing 1 required positional argument: 'y'"
     ]
    }
   ],
   "source": [
    "classifier = MultinomialNB\n",
    "classifier.fit(X, y)"
   ]
  },
  {
   "cell_type": "code",
   "execution_count": 120,
   "metadata": {
    "collapsed": false
   },
   "outputs": [
    {
     "ename": "TypeError",
     "evalue": "score() missing 1 required positional argument: 'y'",
     "output_type": "error",
     "traceback": [
      "\u001b[0;31m---------------------------------------------------------------------------\u001b[0m",
      "\u001b[0;31mTypeError\u001b[0m                                 Traceback (most recent call last)",
      "\u001b[0;32m<ipython-input-120-50bb3872c8ad>\u001b[0m in \u001b[0;36m<module>\u001b[0;34m()\u001b[0m\n\u001b[0;32m----> 1\u001b[0;31m \u001b[0mclassifier\u001b[0m\u001b[0;34m.\u001b[0m\u001b[0mscore\u001b[0m\u001b[0;34m(\u001b[0m\u001b[0mX\u001b[0m\u001b[0;34m,\u001b[0m \u001b[0my\u001b[0m\u001b[0;34m)\u001b[0m\u001b[0;34m\u001b[0m\u001b[0m\n\u001b[0m",
      "\u001b[0;31mTypeError\u001b[0m: score() missing 1 required positional argument: 'y'"
     ]
    }
   ],
   "source": [
    "classifier.score(X, y)"
   ]
  },
  {
   "cell_type": "code",
   "execution_count": null,
   "metadata": {
    "collapsed": true
   },
   "outputs": [],
   "source": []
  }
 ],
 "metadata": {
  "kernelspec": {
   "display_name": "Python 3",
   "language": "python",
   "name": "python3"
  },
  "language_info": {
   "codemirror_mode": {
    "name": "ipython",
    "version": 3
   },
   "file_extension": ".py",
   "mimetype": "text/x-python",
   "name": "python",
   "nbconvert_exporter": "python",
   "pygments_lexer": "ipython3",
   "version": "3.4.3"
  }
 },
 "nbformat": 4,
 "nbformat_minor": 0
}
